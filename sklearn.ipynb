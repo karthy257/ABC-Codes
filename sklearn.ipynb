{
  "nbformat": 4,
  "nbformat_minor": 0,
  "metadata": {
    "colab": {
      "name": "sklearn.ipynb",
      "private_outputs": true,
      "provenance": [],
      "authorship_tag": "ABX9TyPzce9M6v/yR3dvYTboRPD1",
      "include_colab_link": true
    },
    "kernelspec": {
      "name": "python3",
      "display_name": "Python 3"
    },
    "language_info": {
      "name": "python"
    }
  },
  "cells": [
    {
      "cell_type": "markdown",
      "metadata": {
        "id": "view-in-github",
        "colab_type": "text"
      },
      "source": [
        "<a href=\"https://colab.research.google.com/github/karthy257/ABC-Codes/blob/main/sklearn.ipynb\" target=\"_parent\"><img src=\"https://colab.research.google.com/assets/colab-badge.svg\" alt=\"Open In Colab\"/></a>"
      ]
    },
    {
      "cell_type": "code",
      "execution_count": null,
      "metadata": {
        "id": "1UhvK95XaaKG"
      },
      "outputs": [],
      "source": [
        "import numpy as np \n",
        "import pandas as pd\n",
        "import sklearn as sk \n",
        "import matplotlib.pyplot as plt\n",
        "import seaborn as sns "
      ]
    },
    {
      "cell_type": "code",
      "source": [
        "from vega_datasets import data \n",
        "air = data.airports()\n",
        "cars = data.cars()"
      ],
      "metadata": {
        "id": "83yysqK_ehao"
      },
      "execution_count": null,
      "outputs": []
    },
    {
      "cell_type": "code",
      "source": [
        "from sklearn.linear_model import (LinearRegression, LogisticRegression, LogisticRegressionCV, Ridge, RidgeClassifier,\\\n",
        "                                  Lasso, LassoLars, ElasticNet)"
      ],
      "metadata": {
        "id": "dM24nRQKal6E"
      },
      "execution_count": null,
      "outputs": []
    },
    {
      "cell_type": "code",
      "source": [
        "from sklearn.model_selection import (cross_val_score, cross_validate,GridSearchCV, \\\n",
        "                                     GroupKFold, ShuffleSplit, RepeatedKFold, train_test_split )"
      ],
      "metadata": {
        "id": "1AktrDpDbH1k"
      },
      "execution_count": null,
      "outputs": []
    },
    {
      "cell_type": "code",
      "source": [
        "from sklearn.neighbors import KNeighborsClassifier, KNeighborsRegressor, KNeighborsTransformer"
      ],
      "metadata": {
        "id": "cQNTuFIhcAI3"
      },
      "execution_count": null,
      "outputs": []
    },
    {
      "cell_type": "code",
      "source": [
        "from sklearn.naive_bayes import BernoulliNB, GaussianNB, CategoricalNB"
      ],
      "metadata": {
        "id": "a0ozWSdRcOCa"
      },
      "execution_count": null,
      "outputs": []
    },
    {
      "cell_type": "code",
      "source": [
        "from sklearn.pipeline import make_pipeline, Pipeline"
      ],
      "metadata": {
        "id": "WdcQu4Zucbnh"
      },
      "execution_count": null,
      "outputs": []
    },
    {
      "cell_type": "code",
      "source": [
        "from sklearn.preprocessing import StandardScaler, OneHotEncoder, OrdinalEncoder, MinMaxScaler"
      ],
      "metadata": {
        "id": "ic9J0eZrcjvZ"
      },
      "execution_count": null,
      "outputs": []
    },
    {
      "cell_type": "code",
      "source": [
        "from sklearn import feature_extraction, feature_selection"
      ],
      "metadata": {
        "id": "2PhvL-GXcwzZ"
      },
      "execution_count": null,
      "outputs": []
    },
    {
      "cell_type": "code",
      "source": [
        "from sklearn import set_config\n",
        "set_config(display='diagram')"
      ],
      "metadata": {
        "id": "aNP0NjE_c91x"
      },
      "execution_count": null,
      "outputs": []
    },
    {
      "cell_type": "code",
      "source": [
        "from sklearn.tree import DecisionTreeClassifier, DecisionTreeRegressor, plot_tree\n",
        "from sklearn.ensemble import (RandomForestClassifier, RandomForestRegressor, BaggingClassifier, \\\n",
        "                              BaggingRegressor, AdaBoostClassifier, AdaBoostClassifier, AdaBoostRegressor,\\\n",
        "                              GradientBoostingClassifier, HistGradientBoostingClassifier, GradientBoostingRegressor, \\\n",
        "                              VotingClassifier, VotingRegressor, StackingRegressor, StackingClassifier)"
      ],
      "metadata": {
        "id": "T1lCiogPdeJ0"
      },
      "execution_count": null,
      "outputs": []
    },
    {
      "cell_type": "code",
      "source": [
        "lr = LinearRegression()\n",
        "lg = LogisticRegression()\n",
        "knc = KNeighborsClassifier(); knr = KNeighborsRegressor()\n",
        "dcg = DecisionTreeClassifier(); drg = DecisionTreeRegressor()\n",
        "rfc = RandomForestClassifier(); rfg = RandomForestClassifier()\n"
      ],
      "metadata": {
        "id": "3WDspp8VdGzL"
      },
      "execution_count": null,
      "outputs": []
    },
    {
      "cell_type": "code",
      "source": [
        "cars.head(); cars = cars.dropna(); car_data = cars.drop(columns=['Acceleration', 'Name', 'Year', 'Origin'], axis = 1); car_target = cars['Acceleration']\n",
        "data_train, data_test, targ_train, targ_test = train_test_split(car_data, car_target, random_state = 42)"
      ],
      "metadata": {
        "id": "H20kulxMdIsj"
      },
      "execution_count": null,
      "outputs": []
    },
    {
      "cell_type": "code",
      "source": [
        "print(data_train, targ_train)\n"
      ],
      "metadata": {
        "id": "oVGrHPY3euvT"
      },
      "execution_count": null,
      "outputs": []
    },
    {
      "cell_type": "code",
      "source": [
        "lr.fit(data_train, targ_train)"
      ],
      "metadata": {
        "id": "bitSdxmXfdAG"
      },
      "execution_count": null,
      "outputs": []
    },
    {
      "cell_type": "code",
      "source": [
        "lr.coef_"
      ],
      "metadata": {
        "id": "_D4hjLwtfwDb"
      },
      "execution_count": null,
      "outputs": []
    },
    {
      "cell_type": "code",
      "source": [
        ""
      ],
      "metadata": {
        "id": "pMTzfJAqgd-V"
      },
      "execution_count": null,
      "outputs": []
    }
  ]
}