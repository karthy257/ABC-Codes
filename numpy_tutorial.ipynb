{
  "cells": [
    {
      "cell_type": "markdown",
      "metadata": {
        "colab_type": "text",
        "id": "view-in-github"
      },
      "source": [
        "<a href=\"https://colab.research.google.com/github/karthy257/wesanderson/blob/master/numpy_tutorial.ipynb\" target=\"_parent\"><img src=\"https://colab.research.google.com/assets/colab-badge.svg\" alt=\"Open In Colab\"/></a>"
      ]
    },
    {
      "cell_type": "markdown",
      "metadata": {
        "id": "xsKhdtT5zLvl"
      },
      "source": [
        "<img src=\"https://upload.wikimedia.org/wikipedia/commons/thumb/1/1a/NumPy_logo.svg/1200px-NumPy_logo.svg.png\" alt=\"cce\" border=\"0\">"
      ]
    },
    {
      "cell_type": "markdown",
      "metadata": {
        "id": "MHndgiaJzLvu"
      },
      "source": [
        "### Resources that help me prepare this kernel:\n",
        "\n",
        "* https://www.oreilly.com/library/view/python-data-science/9781491912126/"
      ]
    },
    {
      "cell_type": "markdown",
      "metadata": {
        "id": "ZylkryqBzLvv"
      },
      "source": [
        "\n",
        "### In this kernel, we will cover NumPy in detail.\n",
        "\n",
        "**Content:**\n",
        "\n",
        "1. [Introduction to NumPy](#1)\n",
        "2. [Understanding Data Types in Python](#2)\n",
        "      * [Creating Arrays from Scratch](#3)\n",
        "      * [NumPy Standard Data Types](#4)\n",
        "3. [The Basics of NumPy Arrays](#5)\n",
        "      * [NumPy Array Attributes](#6)\n",
        "      * [Array Indexing: Accessing Single Elements](#7)\n",
        "      * [Array Slicing: Accessing Subarrays](#8)\n",
        "         * 1- [One-dimensional subarrays](#43)  \n",
        "         * 2- [Multidimensional subarrays](#44)\n",
        "         * 3- [Accessing array rows and columns](#45)\n",
        "         * 4- [Subarrays as no-copy views](#46)\n",
        "         * 5- [Creating copies of arrays](#47)\n",
        "      * [Reshaping of Arrays](#9)\n",
        "      * [Array Concatenation and Splitting](#10)\n",
        "4. [Computation on NumPy Arrays: Universal Functions](#11)\n",
        "      * [Exploring NumPy’s UFuncs](#12)\n",
        "         * 1- [Array arithmetic](#13)  \n",
        "         * 2- [Exponents and logarithms](#14)\n",
        "         * 3- [Absolute value](#15)\n",
        "         * 4- [Trigonometric functions](#16)\n",
        "      * [Advanced Ufunc Features](#17)\n",
        "         * 1- [Specifying output](#18)  \n",
        "         * 2- [Aggregates](#19)\n",
        "         * 3- [Outer products](#20)\n",
        "5. [Aggregations: Min, Max, and Everything in Between](#21)\n",
        "      * [Summing the Values in an Array](#22)\n",
        "      * [Minimum and Maximum](#23)\n",
        "      * [Multidimensional aggregates](#24)\n",
        "6. [Computation on Arrays: Broadcasting](#25)\n",
        "      * [Introducing Broadcasting](#26)\n",
        "      * [Visualization of NumPy broadcasting](#27)\n",
        "      * [Broadcasting example 1](#28)\n",
        "      * [Broadcasting example 2](#29)\n",
        "      * [Broadcasting example 3](#30)\n",
        "7. [Comparisons, Masks, and Boolean Logic](#31)\n",
        "      * [Comparison Operators as ufuncs](#32)\n",
        "      * [Working with Boolean Arrays ](#33)\n",
        "8. [Fancy Indexing](#34)\n",
        "      * [Exploring Fancy Indexing](#35)   \n",
        "      * [Combined Indexing](#36) \n",
        "      * [Modifying Values with Fancy Indexing](#37)\n",
        "9. [Fancy Indexing](#38)\n",
        "      * [Fast Sorting in NumPy: np.sort and np.argsort](#39)   \n",
        "      * [Sorting along rows or columns](#40) \n",
        "      * [Partial Sorts: Partitioning](#41)\n",
        "10. [Conclusion](#42)   "
      ]
    },
    {
      "cell_type": "markdown",
      "metadata": {
        "id": "v5ebZ47nzLvz"
      },
      "source": [
        "<a id=\"1\"></a> <br>\n",
        "# Introduction to NumPy\n",
        "\n",
        "* NumPy is the fundamental package for scientific computing in Python"
      ]
    },
    {
      "cell_type": "code",
      "execution_count": 1,
      "metadata": {
        "id": "rBd5By1QzLv0"
      },
      "outputs": [],
      "source": [
        "import numpy as np"
      ]
    },
    {
      "cell_type": "code",
      "execution_count": 2,
      "metadata": {
        "colab": {
          "base_uri": "https://localhost:8080/"
        },
        "id": "RoETNNWOzLv2",
        "outputId": "37a39f21-c6d6-4b1d-cd57-176709bb72f2"
      },
      "outputs": [
        {
          "data": {
            "text/plain": [
              "array([3.2, 4. , 6. , 5. ])"
            ]
          },
          "execution_count": 2,
          "metadata": {},
          "output_type": "execute_result"
        }
      ],
      "source": [
        "np.array([3.2,4,6,5])"
      ]
    },
    {
      "cell_type": "code",
      "execution_count": 3,
      "metadata": {
        "colab": {
          "base_uri": "https://localhost:8080/"
        },
        "id": "_PKezX8JzLv4",
        "outputId": "6eeeee12-1be4-45f0-9038-2211c2214728"
      },
      "outputs": [
        {
          "data": {
            "text/plain": [
              "array([1, 4, 2, 5, 3])"
            ]
          },
          "execution_count": 3,
          "metadata": {},
          "output_type": "execute_result"
        }
      ],
      "source": [
        "np.array([1,4,2,5,3]) ## integer array:"
      ]
    },
    {
      "cell_type": "markdown",
      "metadata": {
        "id": "0zoIRldTzLv6"
      },
      "source": [
        "<a id=\"2\"></a> <br>\n",
        "# Understanding Data Types in Python"
      ]
    },
    {
      "cell_type": "code",
      "execution_count": 4,
      "metadata": {
        "colab": {
          "base_uri": "https://localhost:8080/"
        },
        "id": "SVwhfVlzzLv7",
        "outputId": "6dd3936d-131e-49b2-8b8a-2a70b019f46e"
      },
      "outputs": [
        {
          "data": {
            "text/plain": [
              "array(['1', '2', '3', '4'], dtype='<U1')"
            ]
          },
          "execution_count": 4,
          "metadata": {},
          "output_type": "execute_result"
        }
      ],
      "source": [
        "np.array([1,2,3,4], dtype=\"str\")"
      ]
    },
    {
      "cell_type": "code",
      "execution_count": 5,
      "metadata": {
        "colab": {
          "base_uri": "https://localhost:8080/"
        },
        "id": "GhWbnBDFzLv9",
        "outputId": "acc6906c-29c0-457a-f45d-90b87f72fa4e"
      },
      "outputs": [
        {
          "data": {
            "text/plain": [
              "array([3., 6., 2., 3.], dtype=float32)"
            ]
          },
          "execution_count": 5,
          "metadata": {},
          "output_type": "execute_result"
        }
      ],
      "source": [
        "np.array([3,6,2,3], dtype=\"float32\")"
      ]
    },
    {
      "cell_type": "code",
      "execution_count": 6,
      "metadata": {
        "colab": {
          "base_uri": "https://localhost:8080/"
        },
        "id": "dj5yXfyozLv_",
        "outputId": "584cf757-e83d-41ae-8965-c2637315c41a"
      },
      "outputs": [
        {
          "data": {
            "text/plain": [
              "array([[2, 3, 4],\n",
              "       [4, 5, 6],\n",
              "       [6, 7, 8]])"
            ]
          },
          "execution_count": 6,
          "metadata": {},
          "output_type": "execute_result"
        }
      ],
      "source": [
        "# nested lists result in multidimensional arrays\n",
        "\n",
        "np.array([range(i,i+3) for i in [2,4,6]])"
      ]
    },
    {
      "cell_type": "markdown",
      "metadata": {
        "id": "golNjhPVzLwA"
      },
      "source": [
        "<a id=\"3\"></a> <br>\n",
        "### Creating Arrays from Scratch"
      ]
    },
    {
      "cell_type": "code",
      "execution_count": 7,
      "metadata": {
        "colab": {
          "base_uri": "https://localhost:8080/"
        },
        "id": "zIMZGTUdzLwB",
        "outputId": "3d60c2d0-9d55-4575-ce8e-57a5a786d2fc"
      },
      "outputs": [
        {
          "data": {
            "text/plain": [
              "array([0, 0, 0, 0, 0, 0, 0, 0, 0, 0])"
            ]
          },
          "execution_count": 7,
          "metadata": {},
          "output_type": "execute_result"
        }
      ],
      "source": [
        "# Create a length-10 integer array filled with zeros\n",
        "\n",
        "np.zeros(10, dtype=\"int\") "
      ]
    },
    {
      "cell_type": "code",
      "execution_count": 8,
      "metadata": {
        "colab": {
          "base_uri": "https://localhost:8080/"
        },
        "id": "u3KbfQiUzLwC",
        "outputId": "87562083-d6e9-4e20-967e-baa7b038c65a"
      },
      "outputs": [
        {
          "data": {
            "text/plain": [
              "array([[0., 0., 0., 0., 0., 0.],\n",
              "       [0., 0., 0., 0., 0., 0.],\n",
              "       [0., 0., 0., 0., 0., 0.],\n",
              "       [0., 0., 0., 0., 0., 0.],\n",
              "       [0., 0., 0., 0., 0., 0.]])"
            ]
          },
          "execution_count": 8,
          "metadata": {},
          "output_type": "execute_result"
        }
      ],
      "source": [
        "np.zeros((5,6), dtype=\"float\")"
      ]
    },
    {
      "cell_type": "code",
      "execution_count": 9,
      "metadata": {
        "colab": {
          "base_uri": "https://localhost:8080/"
        },
        "id": "PqrVpu3xzLwD",
        "outputId": "4eef19a4-7f54-4468-c91f-345c714ef6d5"
      },
      "outputs": [
        {
          "data": {
            "text/plain": [
              "array([[1., 1., 1., 1., 1.],\n",
              "       [1., 1., 1., 1., 1.],\n",
              "       [1., 1., 1., 1., 1.]])"
            ]
          },
          "execution_count": 9,
          "metadata": {},
          "output_type": "execute_result"
        }
      ],
      "source": [
        "# Create a 3x5 floating-point array filled with 1s\n",
        "\n",
        "np.ones((3,5), dtype=\"float\")"
      ]
    },
    {
      "cell_type": "code",
      "execution_count": 10,
      "metadata": {
        "colab": {
          "base_uri": "https://localhost:8080/"
        },
        "id": "LTwfZhIczLwE",
        "outputId": "804b719c-4b3a-4198-ef7e-8cd5dc12545d"
      },
      "outputs": [
        {
          "data": {
            "text/plain": [
              "array([[3.14, 3.14, 3.14, 3.14, 3.14],\n",
              "       [3.14, 3.14, 3.14, 3.14, 3.14],\n",
              "       [3.14, 3.14, 3.14, 3.14, 3.14]])"
            ]
          },
          "execution_count": 10,
          "metadata": {},
          "output_type": "execute_result"
        }
      ],
      "source": [
        "# Create a 3x5 array filled with 3.14\n",
        "\n",
        "np.full((3,5), 3.14)"
      ]
    },
    {
      "cell_type": "code",
      "execution_count": 11,
      "metadata": {
        "colab": {
          "base_uri": "https://localhost:8080/"
        },
        "id": "CgpjW3QRzLwF",
        "outputId": "6347b2d1-afa3-4867-d9d9-5d915d83e8a5"
      },
      "outputs": [
        {
          "data": {
            "text/plain": [
              "array([ 0,  2,  4,  6,  8, 10, 12, 14, 16, 18])"
            ]
          },
          "execution_count": 11,
          "metadata": {},
          "output_type": "execute_result"
        }
      ],
      "source": [
        "# Create an array filled with a linear sequence\n",
        "# Starting at 0, ending at 20, stepping by 2\n",
        "# (this is similar to the built-in range() function)\n",
        "\n",
        "np.arange(0,20,2)"
      ]
    },
    {
      "cell_type": "code",
      "execution_count": null,
      "metadata": {
        "id": "YW1ogj4IzLwG"
      },
      "outputs": [],
      "source": [
        "# Create an array of five values evenly spaced between 0 and 1\n",
        "\n",
        "np.linspace(0,1,5)"
      ]
    },
    {
      "cell_type": "code",
      "execution_count": 13,
      "metadata": {
        "colab": {
          "base_uri": "https://localhost:8080/"
        },
        "id": "jFZnRg99zLwG",
        "outputId": "3b469566-4c1d-4d95-9dd9-12fd6ffc4c90"
      },
      "outputs": [
        {
          "data": {
            "text/plain": [
              "array([[0.55730289, 0.13624413, 0.95896752],\n",
              "       [0.72654552, 0.01986163, 0.66768263],\n",
              "       [0.00721098, 0.08582878, 0.66115598]])"
            ]
          },
          "execution_count": 13,
          "metadata": {},
          "output_type": "execute_result"
        }
      ],
      "source": [
        "# Create a 3x3 array of uniformly distributed\n",
        "# random values between 0 and 1\n",
        "\n",
        "np.random.random((3,3))"
      ]
    },
    {
      "cell_type": "code",
      "execution_count": null,
      "metadata": {
        "id": "CE119qG6zLwH"
      },
      "outputs": [],
      "source": [
        "# Create a 3x3 array of normally distributed random values\n",
        "# with mean 0 and standard deviation 1\n",
        "\n",
        "np.random.normal(0,1,(3,3))"
      ]
    },
    {
      "cell_type": "code",
      "execution_count": 14,
      "metadata": {
        "colab": {
          "base_uri": "https://localhost:8080/"
        },
        "id": "6PXMZJuozLwI",
        "outputId": "5f9614ff-2ff0-4b51-8a27-a3e6117dc906"
      },
      "outputs": [
        {
          "data": {
            "text/plain": [
              "array([[9, 7, 5],\n",
              "       [6, 1, 6],\n",
              "       [2, 6, 3]])"
            ]
          },
          "execution_count": 14,
          "metadata": {},
          "output_type": "execute_result"
        }
      ],
      "source": [
        "# Create a 3x3 array of random integers in the interval [0, 10)\n",
        "\n",
        "np.random.randint(0,10,(3,3))"
      ]
    },
    {
      "cell_type": "code",
      "execution_count": 15,
      "metadata": {
        "colab": {
          "base_uri": "https://localhost:8080/"
        },
        "id": "IwqC4UkQzLwI",
        "outputId": "26fbdb29-6ca4-44d7-b78b-3c8617ca0718"
      },
      "outputs": [
        {
          "data": {
            "text/plain": [
              "array([[1., 0., 0.],\n",
              "       [0., 1., 0.],\n",
              "       [0., 0., 1.]])"
            ]
          },
          "execution_count": 15,
          "metadata": {},
          "output_type": "execute_result"
        }
      ],
      "source": [
        "# Create a 3x3 identity matrix\n",
        "\n",
        "np.eye(3)"
      ]
    },
    {
      "cell_type": "markdown",
      "metadata": {
        "id": "ktnb57Q-zLwJ"
      },
      "source": [
        "<a id=\"4\"></a> <br>\n",
        "### NumPy Standard Data Types"
      ]
    },
    {
      "cell_type": "code",
      "execution_count": 35,
      "metadata": {
        "colab": {
          "base_uri": "https://localhost:8080/"
        },
        "id": "aFJV3Vvf20-f",
        "outputId": "a7f43ecc-26d4-4dd5-a581-d38e0614dc1e"
      },
      "outputs": [
        {
          "name": "stdout",
          "output_type": "stream",
          "text": [
            "The total number of hours to complete the program: 90 hours\n",
            "The number of days to complete the program in 1.0 hour is: 90.0 days\n",
            "The number of days to complete the program in 1.5 hour is: 60.0 days\n",
            "The number of days to complete the program in 2.0 hour is: 45.0 days\n",
            "The number of days to complete the program in 2.5 hour is: 36.0 days\n",
            "The number of days to complete the program in 3.0 hour is: 30.0 days\n",
            "The number of days to complete the program in 3.5 hour is: 25.71 days\n",
            "The number of days to complete the program in 4.0 hour is: 22.5 days\n",
            "The number of days to complete the program in 4.5 hour is: 20.0 days\n",
            "The number of days to complete the program in 5.0 hour is: 18.0 days\n",
            "The number of days to complete the program in 5.5 hour is: 16.36 days\n"
          ]
        }
      ],
      "source": [
        "def hrs():\n",
        "    c1 = np.array([16, 21, 13, 24, 16])\n",
        "    x = c1.sum()\n",
        "    print('The total number of hours to complete the program:', str(x), 'hours')\n",
        "    for i in np.arange(1, 6, 0.5): \n",
        "        print(\"The number of days to complete the program in\", str(i), \"hour is:\", np.round(x/i, 2), 'days')\n",
        "hrs()\n",
        "\n",
        "\n"
      ]
    },
    {
      "cell_type": "code",
      "execution_count": 36,
      "metadata": {
        "colab": {
          "base_uri": "https://localhost:8080/"
        },
        "id": "af_ak9fi33I6",
        "outputId": "621cc0b4-0f33-4ca0-a22c-ce20844ddeba"
      },
      "outputs": [
        {
          "data": {
            "text/plain": [
              "array([1, 2, 3, 4, 5])"
            ]
          },
          "execution_count": 36,
          "metadata": {},
          "output_type": "execute_result"
        }
      ],
      "source": [
        "np.arange(1, 6)"
      ]
    },
    {
      "cell_type": "code",
      "execution_count": 37,
      "metadata": {
        "colab": {
          "base_uri": "https://localhost:8080/"
        },
        "id": "URfUeABgzLwJ",
        "outputId": "cf46afe8-2554-4b70-9d75-a63cfd35ce8c"
      },
      "outputs": [
        {
          "data": {
            "text/plain": [
              "array([[    38228560, 416611827758, 416611827826],\n",
              "       [442381631598, 171798691941, 188978561073],\n",
              "       [231928234016, 476741369897, 442381631598]])"
            ]
          },
          "execution_count": 37,
          "metadata": {},
          "output_type": "execute_result"
        }
      ],
      "source": [
        "#Return a new array of given shape and type, with random values\n",
        "\n",
        "np.empty((3,3),dtype=\"int\")"
      ]
    },
    {
      "cell_type": "code",
      "execution_count": 38,
      "metadata": {
        "colab": {
          "base_uri": "https://localhost:8080/"
        },
        "id": "SRCHWTJOzLwK",
        "outputId": "bba3f088-88cc-45ad-d81c-4fc261330379"
      },
      "outputs": [
        {
          "data": {
            "text/plain": [
              "array([0, 0, 0, 0, 0, 0, 0, 0, 0, 0], dtype=int16)"
            ]
          },
          "execution_count": 38,
          "metadata": {},
          "output_type": "execute_result"
        }
      ],
      "source": [
        "np.zeros(10,dtype=\"int16\")"
      ]
    },
    {
      "cell_type": "code",
      "execution_count": 39,
      "metadata": {
        "colab": {
          "base_uri": "https://localhost:8080/"
        },
        "id": "rjqnN9PTzLwK",
        "outputId": "22b95472-b568-4308-8471-34beb71672fe"
      },
      "outputs": [
        {
          "data": {
            "text/plain": [
              "array([0, 0, 0, 0, 0, 0, 0, 0, 0, 0], dtype=int16)"
            ]
          },
          "execution_count": 39,
          "metadata": {},
          "output_type": "execute_result"
        }
      ],
      "source": [
        "#or using the associated NumPy object:\n",
        "\n",
        "np.zeros(10,dtype=np.int16)"
      ]
    },
    {
      "cell_type": "markdown",
      "metadata": {
        "id": "kDkfWwnQzLwK"
      },
      "source": [
        "<img src=\"https://1.bp.blogspot.com/-xrnk-4zD2Ac/W1LCbjrSjjI/AAAAAAAAXUY/8QJ0AZBxsQ0h6BgUV4kml0NqIO_hOs2KwCLcBGAs/s1600/4212_t2-1.PNG\" alt=\"cce\" border=\"0\">"
      ]
    },
    {
      "cell_type": "markdown",
      "metadata": {
        "id": "v0mLSNgFzLwL"
      },
      "source": [
        "<a id=\"5\"></a> <br>\n",
        "# The Basics of NumPy Arrays"
      ]
    },
    {
      "cell_type": "markdown",
      "metadata": {
        "id": "IhtRRWVBzLwL"
      },
      "source": [
        "* **We’ll cover a few categories of basic array manipulations here:**\n",
        "* Attributes of arrays\n",
        "   * Determining the size, shape, memory consumption, and data types of arrays\n",
        "* Indexing of arrays\n",
        "   * Getting and setting the value of individual array elements\n",
        "* Slicing of arrays\n",
        "   * Getting and setting smaller subarrays within a larger array\n",
        "* Reshaping of arrays\n",
        "   * Changing the shape of a given array\n",
        "* Joining and splitting of arrays\n",
        "   * Combining multiple arrays into one, and splitting one array into many"
      ]
    },
    {
      "cell_type": "markdown",
      "metadata": {
        "id": "SthEDEQozLwL"
      },
      "source": [
        "<a id=\"6\"></a> <br>\n",
        "### NumPy Array Attributes"
      ]
    },
    {
      "cell_type": "code",
      "execution_count": 40,
      "metadata": {
        "id": "PeSCjbGUzLwM"
      },
      "outputs": [],
      "source": [
        "#NumPy Array Attributes\n",
        "#We’ll use NumPy’s random number generator, which we will seed with a set value in order to ensure that the same random arrays are generated each time this code is run:\n",
        "\n",
        "np.random.seed(0) # seed for reproducibility\n",
        "x1 = np.random.randint(10, size=6) # One-dimensional array"
      ]
    },
    {
      "cell_type": "code",
      "execution_count": 42,
      "metadata": {
        "colab": {
          "base_uri": "https://localhost:8080/"
        },
        "id": "F7vjZd-dzLwM",
        "outputId": "e812ef98-004b-4db0-8e34-d452ec6a6b93"
      },
      "outputs": [
        {
          "name": "stdout",
          "output_type": "stream",
          "text": [
            "x1 ndim:  1\n",
            "x1 shape:  (6,)\n",
            "x1 size:  6\n",
            "x1 ndim:  2\n",
            "x1 shape:  (3, 4)\n",
            "x1 size:  12\n",
            "x1 ndim:  3\n",
            "x1 shape:  (3, 4, 5)\n",
            "x1 size:  60\n",
            "dtype:  int64\n",
            "itemsize: 8 bytes\n",
            "nbytes: 48 bytes\n",
            "dtype:  int64\n",
            "itemsize: 8 bytes\n",
            "nbytes: 96 bytes\n",
            "dtype:  int64\n",
            "itemsize: 8 bytes\n",
            "nbytes: 480 bytes\n"
          ]
        }
      ],
      "source": [
        "#Each array has attributes ndim (the number of dimensions), shape (the size of each dimension), and size (the total size of the array):\n",
        "\n",
        "np.random.seed(0) # seed for reproducibility\n",
        "x1 = np.random.randint(10, size=6) #it's same ((np.random.randint((0,10), size=6))) # One-dimensional array\n",
        "x2 = np.random.randint(10, size=(3,4)) # Two-dimensional array\n",
        "x3 = np.random.randint(10, size=(3,4,5)) # Three-dimensional array\n",
        "\n",
        "print(\"x1 ndim: \",x1.ndim)\n",
        "print(\"x1 shape: \",x1.shape)\n",
        "print(\"x1 size: \",x1.size) #totaly,6 elements\n",
        "\n",
        "print(\"x1 ndim: \",x2.ndim)\n",
        "print(\"x1 shape: \",x2.shape)\n",
        "print(\"x1 size: \",x2.size) #totaly,12 elements\n",
        "\n",
        "print(\"x1 ndim: \",x3.ndim)\n",
        "print(\"x1 shape: \",x3.shape)\n",
        "print(\"x1 size: \",x3.size)#totaly,60 elements\n",
        "\n",
        "print(\"dtype: \",x1.dtype) #the data type of the array\n",
        "# Other attributes include itemsize, which lists the size (in bytes) of each array element,\n",
        "# and nbytes, which lists the total size (in bytes) of the array:\n",
        "print(\"itemsize:\",x1.itemsize,\"bytes\")\n",
        "print(\"nbytes:\",x1.nbytes,\"bytes\")\n",
        "\n",
        "print(\"dtype: \",x2.dtype) #the data type of the array\n",
        "print(\"itemsize:\",x2.itemsize,\"bytes\")\n",
        "print(\"nbytes:\",x2.nbytes,\"bytes\")\n",
        "\n",
        "print(\"dtype: \",x3.dtype) #the data type of the array\n",
        "print(\"itemsize:\",x3.itemsize,\"bytes\")\n",
        "print(\"nbytes:\",x3.nbytes,\"bytes\") \n",
        "\n",
        "#In general, we expect that nbytes is equal to itemsize times size."
      ]
    },
    {
      "cell_type": "markdown",
      "metadata": {
        "id": "XbTYUcuuzLwM"
      },
      "source": [
        "<a id=\"7\"></a> <br>\n",
        "### Array Indexing: Accessing Single Elements"
      ]
    },
    {
      "cell_type": "markdown",
      "metadata": {
        "id": "GlIeXaiEzLwN"
      },
      "source": [
        "* If you are familiar with Python’s standard list indexing, indexing in NumPy will feel\n",
        "quite familiar. In a one-dimensional array, you can access the ith value (counting from\n",
        "zero) by specifying the desired index in square brackets, just as with Python lists:"
      ]
    },
    {
      "cell_type": "code",
      "execution_count": 43,
      "metadata": {
        "colab": {
          "base_uri": "https://localhost:8080/"
        },
        "id": "i0lrsjr1zLwN",
        "outputId": "565b45ff-4df1-4412-ddde-7643fdb4058e"
      },
      "outputs": [
        {
          "data": {
            "text/plain": [
              "array([5, 0, 3, 3, 7, 9])"
            ]
          },
          "execution_count": 43,
          "metadata": {},
          "output_type": "execute_result"
        }
      ],
      "source": [
        "x1"
      ]
    },
    {
      "cell_type": "code",
      "execution_count": 44,
      "metadata": {
        "colab": {
          "base_uri": "https://localhost:8080/"
        },
        "id": "8g83ASrszLwO",
        "outputId": "d38a9c6b-1e32-4617-b7f6-4e6decfd7225"
      },
      "outputs": [
        {
          "data": {
            "text/plain": [
              "5"
            ]
          },
          "execution_count": 44,
          "metadata": {},
          "output_type": "execute_result"
        }
      ],
      "source": [
        "x1[0]"
      ]
    },
    {
      "cell_type": "code",
      "execution_count": 45,
      "metadata": {
        "colab": {
          "base_uri": "https://localhost:8080/"
        },
        "id": "OZFXr3VczLwO",
        "outputId": "5c760527-a352-46b8-f2d2-ecfc574ad57b"
      },
      "outputs": [
        {
          "data": {
            "text/plain": [
              "7"
            ]
          },
          "execution_count": 45,
          "metadata": {},
          "output_type": "execute_result"
        }
      ],
      "source": [
        "x1[4]"
      ]
    },
    {
      "cell_type": "code",
      "execution_count": 46,
      "metadata": {
        "colab": {
          "base_uri": "https://localhost:8080/"
        },
        "id": "k9_KCXzozLwP",
        "outputId": "7c6a33d9-3647-4577-c175-61111ededb4b"
      },
      "outputs": [
        {
          "data": {
            "text/plain": [
              "9"
            ]
          },
          "execution_count": 46,
          "metadata": {},
          "output_type": "execute_result"
        }
      ],
      "source": [
        "#To index from the end of the array, you can use negative indices:\n",
        "\n",
        "x1[-1]"
      ]
    },
    {
      "cell_type": "code",
      "execution_count": 47,
      "metadata": {
        "colab": {
          "base_uri": "https://localhost:8080/"
        },
        "id": "GlaTlnifzLwP",
        "outputId": "954c23f0-b4bf-47c1-d64a-28c8cdc5aa6d"
      },
      "outputs": [
        {
          "data": {
            "text/plain": [
              "7"
            ]
          },
          "execution_count": 47,
          "metadata": {},
          "output_type": "execute_result"
        }
      ],
      "source": [
        "x1[-2]"
      ]
    },
    {
      "cell_type": "markdown",
      "metadata": {
        "id": "ZrIv2KarzLwQ"
      },
      "source": [
        "* In a multidimensional array, you access items using a comma-separated tuple of indices:"
      ]
    },
    {
      "cell_type": "code",
      "execution_count": 48,
      "metadata": {
        "colab": {
          "base_uri": "https://localhost:8080/"
        },
        "id": "2Dwfd6NOzLwQ",
        "outputId": "dccd9f5c-9e3a-4f3f-8f88-13f7245b6e4b"
      },
      "outputs": [
        {
          "data": {
            "text/plain": [
              "array([[3, 5, 2, 4],\n",
              "       [7, 6, 8, 8],\n",
              "       [1, 6, 7, 7]])"
            ]
          },
          "execution_count": 48,
          "metadata": {},
          "output_type": "execute_result"
        }
      ],
      "source": [
        "x2"
      ]
    },
    {
      "cell_type": "code",
      "execution_count": 49,
      "metadata": {
        "colab": {
          "base_uri": "https://localhost:8080/"
        },
        "id": "6oArPmDdzLwQ",
        "outputId": "b13c3bc0-5367-4496-9f67-c7faae5878e0"
      },
      "outputs": [
        {
          "data": {
            "text/plain": [
              "6"
            ]
          },
          "execution_count": 49,
          "metadata": {},
          "output_type": "execute_result"
        }
      ],
      "source": [
        "x2[2,1]"
      ]
    },
    {
      "cell_type": "code",
      "execution_count": 50,
      "metadata": {
        "colab": {
          "base_uri": "https://localhost:8080/"
        },
        "id": "SL99zsPnzLwR",
        "outputId": "24d5ed2a-7888-432c-8ecb-ae76bc54a56a"
      },
      "outputs": [
        {
          "data": {
            "text/plain": [
              "1"
            ]
          },
          "execution_count": 50,
          "metadata": {},
          "output_type": "execute_result"
        }
      ],
      "source": [
        "x2[2,0]"
      ]
    },
    {
      "cell_type": "code",
      "execution_count": 51,
      "metadata": {
        "colab": {
          "base_uri": "https://localhost:8080/"
        },
        "id": "ugHUn9aLzLwR",
        "outputId": "e49eb7ce-85bc-4fa7-ddc9-ca363cc65d9e"
      },
      "outputs": [
        {
          "data": {
            "text/plain": [
              "1"
            ]
          },
          "execution_count": 51,
          "metadata": {},
          "output_type": "execute_result"
        }
      ],
      "source": [
        "x2[2,-4]"
      ]
    },
    {
      "cell_type": "code",
      "execution_count": 52,
      "metadata": {
        "colab": {
          "base_uri": "https://localhost:8080/"
        },
        "id": "NLp_qbcjzLwR",
        "outputId": "3a2fd40b-e253-4d4c-c6f3-5af3fedf2461"
      },
      "outputs": [
        {
          "data": {
            "text/plain": [
              "6"
            ]
          },
          "execution_count": 52,
          "metadata": {},
          "output_type": "execute_result"
        }
      ],
      "source": [
        "x2[-2,-3]"
      ]
    },
    {
      "cell_type": "code",
      "execution_count": 53,
      "metadata": {
        "colab": {
          "base_uri": "https://localhost:8080/"
        },
        "id": "7VoS-6R8zLwS",
        "outputId": "5811ea58-7ec7-47bc-ee7f-2b0991b1489d"
      },
      "outputs": [
        {
          "data": {
            "text/plain": [
              "array([[12,  5,  2,  4],\n",
              "       [ 7,  6,  8,  8],\n",
              "       [ 1,  6,  7,  7]])"
            ]
          },
          "execution_count": 53,
          "metadata": {},
          "output_type": "execute_result"
        }
      ],
      "source": [
        "#You can also modify values using any of the above index notation:\n",
        "\n",
        "x2[0,0]=12\n",
        "x2"
      ]
    },
    {
      "cell_type": "code",
      "execution_count": 54,
      "metadata": {
        "colab": {
          "base_uri": "https://localhost:8080/"
        },
        "id": "jp6p_MjCzLwS",
        "outputId": "09d69f97-093c-48ca-a02c-1a6463f1e682"
      },
      "outputs": [
        {
          "data": {
            "text/plain": [
              "array([5, 0, 3, 3, 7, 9])"
            ]
          },
          "execution_count": 54,
          "metadata": {},
          "output_type": "execute_result"
        }
      ],
      "source": [
        "x1"
      ]
    },
    {
      "cell_type": "code",
      "execution_count": 55,
      "metadata": {
        "colab": {
          "base_uri": "https://localhost:8080/"
        },
        "id": "Tr4pqasjzLwT",
        "outputId": "a0945849-9474-497a-fb9a-564e4e3fbd9e"
      },
      "outputs": [
        {
          "data": {
            "text/plain": [
              "array([3, 0, 3, 3, 7, 9])"
            ]
          },
          "execution_count": 55,
          "metadata": {},
          "output_type": "execute_result"
        }
      ],
      "source": [
        "x1[0] = 3.14159 # this will be truncated!\n",
        "x1"
      ]
    },
    {
      "cell_type": "markdown",
      "metadata": {
        "id": "NDmwxQbKzLwT"
      },
      "source": [
        "<a id=\"8\"></a> <br>\n",
        "### Array Slicing: Accessing Subarrays"
      ]
    },
    {
      "cell_type": "markdown",
      "metadata": {
        "id": "dp73zTjlzLwU"
      },
      "source": [
        "* Just as we can use square brackets to access individual array elements, we can also use\n",
        "them to access subarrays with the slice notation, marked by the colon (:) character.\n",
        "The NumPy slicing syntax follows that of the standard Python list; to access a slice of\n",
        "an array x, use this:\n",
        "* x[start:stop:step]\n",
        "* If any of these are unspecified, they default to the values start=0, stop=size of\n",
        "dimension, step=1. We’ll take a look at accessing subarrays in one dimension and in\n",
        "multiple dimensions."
      ]
    },
    {
      "cell_type": "markdown",
      "metadata": {
        "id": "onAZeD2ZzLwU"
      },
      "source": [
        "<a id=\"43\"></a> <br>\n",
        "#### One-dimensional subarrays"
      ]
    },
    {
      "cell_type": "code",
      "execution_count": 56,
      "metadata": {
        "colab": {
          "base_uri": "https://localhost:8080/"
        },
        "id": "FAfy-dW7zLwV",
        "outputId": "96ae1cd7-ad37-4dba-c781-27f9e380a161"
      },
      "outputs": [
        {
          "data": {
            "text/plain": [
              "array([0, 1, 2, 3, 4, 5, 6, 7, 8, 9])"
            ]
          },
          "execution_count": 56,
          "metadata": {},
          "output_type": "execute_result"
        }
      ],
      "source": [
        "x = np.arange(10)\n",
        "x"
      ]
    },
    {
      "cell_type": "code",
      "execution_count": 57,
      "metadata": {
        "colab": {
          "base_uri": "https://localhost:8080/"
        },
        "id": "2vcoBBjTzLwV",
        "outputId": "81545973-0453-441d-95d9-de1ea27d4bdb"
      },
      "outputs": [
        {
          "data": {
            "text/plain": [
              "array([0, 1, 2, 3, 4])"
            ]
          },
          "execution_count": 57,
          "metadata": {},
          "output_type": "execute_result"
        }
      ],
      "source": [
        "x[:5] # first five elements"
      ]
    },
    {
      "cell_type": "code",
      "execution_count": 58,
      "metadata": {
        "colab": {
          "base_uri": "https://localhost:8080/"
        },
        "id": "Zf0aAArRzLwV",
        "outputId": "e5ace7d9-1ca4-4826-988d-ec00c6e8a4cb"
      },
      "outputs": [
        {
          "data": {
            "text/plain": [
              "array([5, 6, 7, 8, 9])"
            ]
          },
          "execution_count": 58,
          "metadata": {},
          "output_type": "execute_result"
        }
      ],
      "source": [
        "x[5:] # elements after index 5"
      ]
    },
    {
      "cell_type": "code",
      "execution_count": 59,
      "metadata": {
        "colab": {
          "base_uri": "https://localhost:8080/"
        },
        "id": "bPccZROXzLwW",
        "outputId": "113cc32e-053c-42be-fc6f-0f3dbd4591b1"
      },
      "outputs": [
        {
          "data": {
            "text/plain": [
              "array([4, 5, 6])"
            ]
          },
          "execution_count": 59,
          "metadata": {},
          "output_type": "execute_result"
        }
      ],
      "source": [
        "x[4:7]# middle subarray"
      ]
    },
    {
      "cell_type": "code",
      "execution_count": 60,
      "metadata": {
        "colab": {
          "base_uri": "https://localhost:8080/"
        },
        "id": "b35k2bRdzLwW",
        "outputId": "cf15d93c-2362-4dfc-d094-61843ec983c0"
      },
      "outputs": [
        {
          "data": {
            "text/plain": [
              "array([0, 2, 4, 6, 8])"
            ]
          },
          "execution_count": 60,
          "metadata": {},
          "output_type": "execute_result"
        }
      ],
      "source": [
        "x[::2] # every other element"
      ]
    },
    {
      "cell_type": "code",
      "execution_count": 61,
      "metadata": {
        "colab": {
          "base_uri": "https://localhost:8080/"
        },
        "id": "5QFMPb8VzLwX",
        "outputId": "fe5e76ec-194e-438e-8adf-11cb16cec614"
      },
      "outputs": [
        {
          "data": {
            "text/plain": [
              "array([1, 3, 5, 7, 9])"
            ]
          },
          "execution_count": 61,
          "metadata": {},
          "output_type": "execute_result"
        }
      ],
      "source": [
        "x[1::2] #every other element, starting at index 1"
      ]
    },
    {
      "cell_type": "code",
      "execution_count": 62,
      "metadata": {
        "colab": {
          "base_uri": "https://localhost:8080/"
        },
        "id": "oG1o_tA8zLwX",
        "outputId": "d7aac3e0-4340-4f21-e5a3-61bd353a3eae"
      },
      "outputs": [
        {
          "data": {
            "text/plain": [
              "array([3, 5, 7])"
            ]
          },
          "execution_count": 62,
          "metadata": {},
          "output_type": "execute_result"
        }
      ],
      "source": [
        "x[-7:-2:2]"
      ]
    },
    {
      "cell_type": "code",
      "execution_count": 63,
      "metadata": {
        "colab": {
          "base_uri": "https://localhost:8080/"
        },
        "id": "EeRGgeyUzLwX",
        "outputId": "a11debdd-f83d-45bf-8299-4e3d2b3a4ea6"
      },
      "outputs": [
        {
          "data": {
            "text/plain": [
              "array([6, 7])"
            ]
          },
          "execution_count": 63,
          "metadata": {},
          "output_type": "execute_result"
        }
      ],
      "source": [
        "x[-4:-2:1]"
      ]
    },
    {
      "cell_type": "code",
      "execution_count": 64,
      "metadata": {
        "colab": {
          "base_uri": "https://localhost:8080/"
        },
        "id": "PwFK__EYzLwY",
        "outputId": "ecca6e03-0ef6-442d-9220-ebd4a01cea6e"
      },
      "outputs": [
        {
          "data": {
            "text/plain": [
              "array([9, 8, 7, 6, 5, 4, 3, 2, 1, 0])"
            ]
          },
          "execution_count": 64,
          "metadata": {},
          "output_type": "execute_result"
        }
      ],
      "source": [
        "# A potentially confusing case is when the step value is negative. In this case, the\n",
        "# defaults for start and stop are swapped. This becomes a convenient way to reverse\n",
        "# an array:\n",
        "\n",
        "x[::-1] # all elements, reversed"
      ]
    },
    {
      "cell_type": "code",
      "execution_count": 65,
      "metadata": {
        "colab": {
          "base_uri": "https://localhost:8080/"
        },
        "id": "2U2eeCjwzLwY",
        "outputId": "20157ba4-99ee-47d7-d9d8-cf10e08bd9db"
      },
      "outputs": [
        {
          "data": {
            "text/plain": [
              "array([5, 3, 1])"
            ]
          },
          "execution_count": 65,
          "metadata": {},
          "output_type": "execute_result"
        }
      ],
      "source": [
        "x[5::-2]# reversed every other from index 5"
      ]
    },
    {
      "cell_type": "code",
      "execution_count": 66,
      "metadata": {
        "colab": {
          "base_uri": "https://localhost:8080/"
        },
        "id": "FvkrHEEbzLwY",
        "outputId": "1bef7c22-1d62-4841-fa98-656fd5ae14b5"
      },
      "outputs": [
        {
          "data": {
            "text/plain": [
              "array([5, 3])"
            ]
          },
          "execution_count": 66,
          "metadata": {},
          "output_type": "execute_result"
        }
      ],
      "source": [
        "x[5:1:-2]"
      ]
    },
    {
      "cell_type": "code",
      "execution_count": 67,
      "metadata": {
        "colab": {
          "base_uri": "https://localhost:8080/"
        },
        "id": "1ajgBK2uzLwZ",
        "outputId": "a54cd101-9c75-4400-955f-1b82ea11674e"
      },
      "outputs": [
        {
          "data": {
            "text/plain": [
              "array([5, 4, 3])"
            ]
          },
          "execution_count": 67,
          "metadata": {},
          "output_type": "execute_result"
        }
      ],
      "source": [
        "x[5:-8:-1]"
      ]
    },
    {
      "cell_type": "code",
      "execution_count": 68,
      "metadata": {
        "colab": {
          "base_uri": "https://localhost:8080/"
        },
        "id": "kORTSwcxzLwZ",
        "outputId": "9bcd2f2a-dcbb-460c-d8ce-c8bbb575b18b"
      },
      "outputs": [
        {
          "data": {
            "text/plain": [
              "array([7, 6, 5])"
            ]
          },
          "execution_count": 68,
          "metadata": {},
          "output_type": "execute_result"
        }
      ],
      "source": [
        "x[7:-6:-1]"
      ]
    },
    {
      "cell_type": "code",
      "execution_count": 69,
      "metadata": {
        "colab": {
          "base_uri": "https://localhost:8080/"
        },
        "id": "CgIOv8fNzLwa",
        "outputId": "0312062d-f46d-45f4-9f37-8c142c1861b1"
      },
      "outputs": [
        {
          "data": {
            "text/plain": [
              "array([3])"
            ]
          },
          "execution_count": 69,
          "metadata": {},
          "output_type": "execute_result"
        }
      ],
      "source": [
        "x[-7:-8:-1]"
      ]
    },
    {
      "cell_type": "markdown",
      "metadata": {
        "id": "2WpQuATJzLwa"
      },
      "source": [
        "<a id=\"44\"></a> <br>\n",
        "#### Multidimensional subarrays"
      ]
    },
    {
      "cell_type": "code",
      "execution_count": 70,
      "metadata": {
        "colab": {
          "base_uri": "https://localhost:8080/"
        },
        "id": "oS2-AerHzLwa",
        "outputId": "8f3a3537-7ff4-4335-eedc-4283ef8c2f86"
      },
      "outputs": [
        {
          "data": {
            "text/plain": [
              "array([[12,  5,  2,  4],\n",
              "       [ 7,  6,  8,  8],\n",
              "       [ 1,  6,  7,  7]])"
            ]
          },
          "execution_count": 70,
          "metadata": {},
          "output_type": "execute_result"
        }
      ],
      "source": [
        "# Multidimensional slices work in the same way, with multiple slices separated by commas.\n",
        "# For example:\n",
        "\n",
        "x2"
      ]
    },
    {
      "cell_type": "code",
      "execution_count": 71,
      "metadata": {
        "colab": {
          "base_uri": "https://localhost:8080/"
        },
        "id": "2GCkS8qtzLwb",
        "outputId": "bec3486d-2eb7-401e-cdda-99deb477199f"
      },
      "outputs": [
        {
          "data": {
            "text/plain": [
              "array([[12,  5,  2],\n",
              "       [ 7,  6,  8]])"
            ]
          },
          "execution_count": 71,
          "metadata": {},
          "output_type": "execute_result"
        }
      ],
      "source": [
        "# two rows, three columns\n",
        "\n",
        "x2[:2, :3]"
      ]
    },
    {
      "cell_type": "code",
      "execution_count": 72,
      "metadata": {
        "colab": {
          "base_uri": "https://localhost:8080/"
        },
        "id": "b89_RAFBzLwb",
        "outputId": "56a0952a-040f-4807-96e3-92cd8075f726"
      },
      "outputs": [
        {
          "data": {
            "text/plain": [
              "array([[12,  2],\n",
              "       [ 7,  8],\n",
              "       [ 1,  7]])"
            ]
          },
          "execution_count": 72,
          "metadata": {},
          "output_type": "execute_result"
        }
      ],
      "source": [
        "# all rows, every other column\n",
        "\n",
        "x2[:3,::2]"
      ]
    },
    {
      "cell_type": "code",
      "execution_count": 73,
      "metadata": {
        "colab": {
          "base_uri": "https://localhost:8080/"
        },
        "id": "qPy6tAAAzLwb",
        "outputId": "5bffce62-1d35-4768-c922-fe54d31e3353"
      },
      "outputs": [
        {
          "data": {
            "text/plain": [
              "array([[ 7,  7,  6,  1],\n",
              "       [ 8,  8,  6,  7],\n",
              "       [ 4,  2,  5, 12]])"
            ]
          },
          "execution_count": 73,
          "metadata": {},
          "output_type": "execute_result"
        }
      ],
      "source": [
        "#Finally, subarray dimensions can even be reversed together:\n",
        "\n",
        "x2[::-1,::-1]"
      ]
    },
    {
      "cell_type": "markdown",
      "metadata": {
        "id": "v6d5fjcWzLwc"
      },
      "source": [
        "<a id=\"45\"></a> <br>\n",
        "#### Accessing array rows and columns"
      ]
    },
    {
      "cell_type": "code",
      "execution_count": 74,
      "metadata": {
        "colab": {
          "base_uri": "https://localhost:8080/"
        },
        "id": "MxvmNy8hzLwc",
        "outputId": "44420b39-3e8f-43ee-c333-db0070709ba9"
      },
      "outputs": [
        {
          "name": "stdout",
          "output_type": "stream",
          "text": [
            "[12  7  1]\n"
          ]
        }
      ],
      "source": [
        "# One commonly needed routine is accessing single\n",
        "# rows or columns of an array. You can do this by combining indexing and slicing,\n",
        "# using an empty slice marked by a single colon (:):\n",
        "\n",
        "print(x2[:, 0]) # first column of x2"
      ]
    },
    {
      "cell_type": "code",
      "execution_count": 75,
      "metadata": {
        "colab": {
          "base_uri": "https://localhost:8080/"
        },
        "id": "fNCMp9t3zLwc",
        "outputId": "06d80c61-f5e2-41ef-83a1-0c1cbeebbb8c"
      },
      "outputs": [
        {
          "name": "stdout",
          "output_type": "stream",
          "text": [
            "[12  5  2  4]\n"
          ]
        }
      ],
      "source": [
        "print(x2[0,:]) # first row of x2"
      ]
    },
    {
      "cell_type": "code",
      "execution_count": 76,
      "metadata": {
        "colab": {
          "base_uri": "https://localhost:8080/"
        },
        "id": "3cxU2CSFzLwd",
        "outputId": "142cebef-2044-4371-d201-4ea54d6f2b16"
      },
      "outputs": [
        {
          "name": "stdout",
          "output_type": "stream",
          "text": [
            "[12  5  2  4]\n"
          ]
        }
      ],
      "source": [
        "#In the case of row access, the empty slice can be omitted for a more compact syntax:\n",
        "\n",
        "print(x2[0]) # equivalent to x2[0, :]"
      ]
    },
    {
      "cell_type": "markdown",
      "metadata": {
        "id": "sFeica2tzLwe"
      },
      "source": [
        "<a id=\"46\"></a> <br>\n",
        "#### Subarrays as no-copy views"
      ]
    },
    {
      "cell_type": "markdown",
      "metadata": {
        "id": "_mYlCFXLzLwe"
      },
      "source": [
        "* One important—and extremely useful—thing to know about array slices is that they\n",
        "return views rather than copies of the array data. This is one area in which NumPy\n",
        "array slicing differs from Python list slicing: in lists, slices will be copies. Consider our\n",
        "two-dimensional array from before:"
      ]
    },
    {
      "cell_type": "code",
      "execution_count": null,
      "metadata": {
        "id": "fnWfh0x_zLwf",
        "outputId": "8a54415f-041b-4745-de4c-b65c8823954b"
      },
      "outputs": [
        {
          "name": "stdout",
          "output_type": "stream",
          "text": [
            "[[12  5  2  4]\n",
            " [ 7  6  8  8]\n",
            " [ 1  6  7  7]]\n"
          ]
        }
      ],
      "source": [
        "print(x2)"
      ]
    },
    {
      "cell_type": "code",
      "execution_count": null,
      "metadata": {
        "id": "lH0vdqNWzLwf",
        "outputId": "6ccef612-e7d0-4a15-9072-dbee7ced1f1e"
      },
      "outputs": [
        {
          "name": "stdout",
          "output_type": "stream",
          "text": [
            "[[12  5]\n",
            " [ 7  6]]\n"
          ]
        }
      ],
      "source": [
        "#Let’s extract a 2×2 subarray from this:\n",
        "\n",
        "x2_sub = x2[:2,:2]\n",
        "print(x2_sub)"
      ]
    },
    {
      "cell_type": "code",
      "execution_count": null,
      "metadata": {
        "id": "t3MvlijdzLwg",
        "outputId": "8f12bd52-5841-4f1c-993f-130c5ee55854"
      },
      "outputs": [
        {
          "name": "stdout",
          "output_type": "stream",
          "text": [
            "[[99  5]\n",
            " [ 7  6]]\n"
          ]
        }
      ],
      "source": [
        "#Now if we modify this subarray, we’ll see that the original array is changed! Observe:\n",
        "\n",
        "x2_sub[0,0] = 99\n",
        "print(x2_sub)"
      ]
    },
    {
      "cell_type": "code",
      "execution_count": null,
      "metadata": {
        "id": "n3KNaTxszLwg",
        "outputId": "74d66a5b-a48c-4f8c-cf0b-3f52654e0b7c"
      },
      "outputs": [
        {
          "name": "stdout",
          "output_type": "stream",
          "text": [
            "[[99  5  2  4]\n",
            " [ 7  6  8  8]\n",
            " [ 1  6  7  7]]\n"
          ]
        }
      ],
      "source": [
        "print(x2)"
      ]
    },
    {
      "cell_type": "markdown",
      "metadata": {
        "id": "GzMEylrNzLwh"
      },
      "source": [
        "* This default behavior is actually quite useful: it means that when we work with large\n",
        "datasets, we can access and process pieces of these datasets without the need to copy\n",
        "the underlying data buffer."
      ]
    },
    {
      "cell_type": "markdown",
      "metadata": {
        "id": "kB-jKVTmzLwh"
      },
      "source": [
        "<a id=\"47\"></a> <br>\n",
        "#### Creating copies of arrays"
      ]
    },
    {
      "cell_type": "markdown",
      "metadata": {
        "id": "FIQQ8Vu-zLwh"
      },
      "source": [
        "* Despite the nice features of array views, it is sometimes useful to instead explicitly\n",
        "copy the data within an array or a subarray. This can be most easily done with the\n",
        "copy() method:"
      ]
    },
    {
      "cell_type": "code",
      "execution_count": null,
      "metadata": {
        "id": "9gA1aEyNzLwi",
        "outputId": "423e84e7-c3ec-46ac-9457-539368ab67b5"
      },
      "outputs": [
        {
          "name": "stdout",
          "output_type": "stream",
          "text": [
            "[[99  5]\n",
            " [ 7  6]]\n"
          ]
        }
      ],
      "source": [
        "x2_sub_copy = x2[:2,:2].copy()\n",
        "print(x2_sub_copy)"
      ]
    },
    {
      "cell_type": "code",
      "execution_count": null,
      "metadata": {
        "id": "eoBOI608zLwi",
        "outputId": "5e599de1-c6a6-40eb-c9f0-a2ed556d6a82"
      },
      "outputs": [
        {
          "name": "stdout",
          "output_type": "stream",
          "text": [
            "[[42  5]\n",
            " [ 7  6]]\n"
          ]
        }
      ],
      "source": [
        "#If we now modify this subarray, the original array is not touched:\n",
        "\n",
        "x2_sub_copy[0,0] = 42\n",
        "print(x2_sub_copy)"
      ]
    },
    {
      "cell_type": "code",
      "execution_count": null,
      "metadata": {
        "id": "4Z5fG2ElzLwi",
        "outputId": "efdfa955-2bd9-4e63-e43c-5941d45ed1bc"
      },
      "outputs": [
        {
          "name": "stdout",
          "output_type": "stream",
          "text": [
            "[[99  5  2  4]\n",
            " [ 7  6  8  8]\n",
            " [ 1  6  7  7]]\n"
          ]
        }
      ],
      "source": [
        "print(x2)"
      ]
    },
    {
      "cell_type": "markdown",
      "metadata": {
        "id": "nYOJVG99zLwj"
      },
      "source": [
        "<a id=\"9\"></a> <br>\n",
        "### Reshaping of Arrays"
      ]
    },
    {
      "cell_type": "code",
      "execution_count": null,
      "metadata": {
        "id": "WREqI1LKzLwj",
        "outputId": "02c2e6ea-43c6-4cf3-a435-8663ca896712"
      },
      "outputs": [
        {
          "name": "stdout",
          "output_type": "stream",
          "text": [
            "[[1 2 3]\n",
            " [4 5 6]\n",
            " [7 8 9]]\n"
          ]
        }
      ],
      "source": [
        "# Another useful type of operation is reshaping of arrays. The most flexible way of\n",
        "# doing this is with the reshape() method. For example, if you want to put the numbers\n",
        "# 1 through 9 in a 3×3 grid, you can do the following:\n",
        "\n",
        "grid = np.arange(1,10,1).reshape(3,3)\n",
        "print(grid)"
      ]
    },
    {
      "cell_type": "markdown",
      "metadata": {
        "id": "jo4D84M9zLwk"
      },
      "source": [
        "* Where possible, the reshape method will use a no-copy view of the\n",
        "initial array, but with noncontiguous memory buffers this is not always the case.\n",
        "\n",
        "* Another common reshaping pattern is the conversion of a one-dimensional array\n",
        "into a two-dimensional row or column matrix. You can do this with the reshape\n",
        "method, or more easily by making use of the newaxis keyword within a slice operation:"
      ]
    },
    {
      "cell_type": "code",
      "execution_count": null,
      "metadata": {
        "id": "ad25HA_wzLwk",
        "outputId": "b12a6c8d-075a-4eb2-92ac-f4a07db3df83"
      },
      "outputs": [
        {
          "data": {
            "text/plain": [
              "(3,)"
            ]
          },
          "execution_count": 64,
          "metadata": {},
          "output_type": "execute_result"
        }
      ],
      "source": [
        "x = np.array([1, 2, 3])\n",
        "x.shape # x is a vector (3,)"
      ]
    },
    {
      "cell_type": "code",
      "execution_count": null,
      "metadata": {
        "id": "me6Oquf5zLwk",
        "outputId": "ea8c7dcc-b7de-46e3-eb36-21aa619ef5dc"
      },
      "outputs": [
        {
          "data": {
            "text/plain": [
              "(1, 3)"
            ]
          },
          "execution_count": 65,
          "metadata": {},
          "output_type": "execute_result"
        }
      ],
      "source": [
        "# row vector via reshape\n",
        "\n",
        "x.reshape(1,3).shape"
      ]
    },
    {
      "cell_type": "code",
      "execution_count": null,
      "metadata": {
        "id": "KVmxNRpMzLwl",
        "outputId": "41d8b4a5-0654-403d-d72f-16af5cd8931b"
      },
      "outputs": [
        {
          "data": {
            "text/plain": [
              "(1, 3)"
            ]
          },
          "execution_count": 66,
          "metadata": {},
          "output_type": "execute_result"
        }
      ],
      "source": [
        "# row vector via newaxis\n",
        "\n",
        "x[np.newaxis, :].shape"
      ]
    },
    {
      "cell_type": "code",
      "execution_count": null,
      "metadata": {
        "id": "DiLxSyMtzLwl",
        "outputId": "8dc6f837-d4aa-4580-d149-1e55eef25407"
      },
      "outputs": [
        {
          "data": {
            "text/plain": [
              "(1, 3)"
            ]
          },
          "execution_count": 67,
          "metadata": {},
          "output_type": "execute_result"
        }
      ],
      "source": [
        "x.reshape(1,-1).shape"
      ]
    },
    {
      "cell_type": "code",
      "execution_count": null,
      "metadata": {
        "id": "hUZYkPUBzLwl",
        "outputId": "3d406af4-13f3-4a47-bd42-63dca3c061f8"
      },
      "outputs": [
        {
          "data": {
            "text/plain": [
              "array([[1],\n",
              "       [2],\n",
              "       [3]])"
            ]
          },
          "execution_count": 68,
          "metadata": {},
          "output_type": "execute_result"
        }
      ],
      "source": [
        "# column vector via reshape\n",
        "\n",
        "x.reshape((3, 1))"
      ]
    },
    {
      "cell_type": "code",
      "execution_count": null,
      "metadata": {
        "id": "rirXBF8uzLwl",
        "outputId": "65bb19d3-8d58-4a36-d39d-0e9892792e6a"
      },
      "outputs": [
        {
          "data": {
            "text/plain": [
              "array([[1],\n",
              "       [2],\n",
              "       [3]])"
            ]
          },
          "execution_count": 69,
          "metadata": {},
          "output_type": "execute_result"
        }
      ],
      "source": [
        "# column vector via newaxis\n",
        "\n",
        "x[:, np.newaxis]"
      ]
    },
    {
      "cell_type": "code",
      "execution_count": null,
      "metadata": {
        "id": "4t-797unzLwm",
        "outputId": "deffcedf-ecc7-428a-8930-7a89b6d12f55"
      },
      "outputs": [
        {
          "data": {
            "text/plain": [
              "(3, 1)"
            ]
          },
          "execution_count": 70,
          "metadata": {},
          "output_type": "execute_result"
        }
      ],
      "source": [
        "x.reshape(-1,1).shape"
      ]
    },
    {
      "cell_type": "markdown",
      "metadata": {
        "id": "HJ15tnV7zLwm"
      },
      "source": [
        "<img src=\"https://i.stack.imgur.com/zkMBy.png\" alt=\"cce\" border=\"0\">"
      ]
    },
    {
      "cell_type": "markdown",
      "metadata": {
        "id": "JbMV2UgWzLwm"
      },
      "source": [
        "<a id=\"10\"></a> <br>\n",
        "### Array Concatenation and Splitting"
      ]
    },
    {
      "cell_type": "markdown",
      "metadata": {
        "id": "UVpyWGu_zLwn"
      },
      "source": [
        "#### Concatenation of arrays"
      ]
    },
    {
      "cell_type": "code",
      "execution_count": null,
      "metadata": {
        "id": "fKZdChdZzLwn",
        "outputId": "67c7446f-8a8c-47cb-c78e-7b5d6fec3ab9"
      },
      "outputs": [
        {
          "data": {
            "text/plain": [
              "array([1, 2, 3, 3, 2, 1])"
            ]
          },
          "execution_count": 71,
          "metadata": {},
          "output_type": "execute_result"
        }
      ],
      "source": [
        "x = np.array([1,2,3])\n",
        "y = np.array([3,2,1])\n",
        "np.concatenate((x, y))\n"
      ]
    },
    {
      "cell_type": "markdown",
      "metadata": {
        "id": "FeMgM6NyzLwn"
      },
      "source": [
        "* You can also concatenate more than two arrays at once:"
      ]
    },
    {
      "cell_type": "code",
      "execution_count": null,
      "metadata": {
        "id": "ixg_DlLAzLwo",
        "outputId": "0cf65986-c7a1-4d97-efd3-9112e7b6be0b"
      },
      "outputs": [
        {
          "name": "stdout",
          "output_type": "stream",
          "text": [
            "[ 1  2  3  3  2  1 99 99 99]\n"
          ]
        }
      ],
      "source": [
        "z = np.array([99,99,99]) #z =[99,99,99]\n",
        "\n",
        "print(np.concatenate((x,y,z)))"
      ]
    },
    {
      "cell_type": "markdown",
      "metadata": {
        "id": "YNO3yRZTzLwo"
      },
      "source": [
        "* np.concatenate can also be used for two-dimensional arrays:"
      ]
    },
    {
      "cell_type": "code",
      "execution_count": null,
      "metadata": {
        "id": "NVLuzO_7zLwp"
      },
      "outputs": [],
      "source": [
        "grid = np.array([[1,2,3],\n",
        "                [4,5,6]])"
      ]
    },
    {
      "cell_type": "code",
      "execution_count": null,
      "metadata": {
        "id": "e66C7MvdzLwp",
        "outputId": "8c3a71f5-c799-4ef8-dcd4-5abb78a23864"
      },
      "outputs": [
        {
          "data": {
            "text/plain": [
              "array([[1, 2, 3],\n",
              "       [4, 5, 6],\n",
              "       [1, 2, 3],\n",
              "       [4, 5, 6]])"
            ]
          },
          "execution_count": 74,
          "metadata": {},
          "output_type": "execute_result"
        }
      ],
      "source": [
        "# concatenate along the first axis\n",
        "\n",
        "np.concatenate((grid,grid))"
      ]
    },
    {
      "cell_type": "code",
      "execution_count": null,
      "metadata": {
        "id": "PixfJG8pzLwp",
        "outputId": "9ce77288-c6ba-437b-88d3-01004bab1637"
      },
      "outputs": [
        {
          "data": {
            "text/plain": [
              "array([[1, 2, 3, 1, 2, 3],\n",
              "       [4, 5, 6, 4, 5, 6]])"
            ]
          },
          "execution_count": 75,
          "metadata": {},
          "output_type": "execute_result"
        }
      ],
      "source": [
        "# concatenate along the second axis (zero-indexed)\n",
        "\n",
        "np.concatenate((grid, grid), axis=1)"
      ]
    },
    {
      "cell_type": "code",
      "execution_count": null,
      "metadata": {
        "id": "M3Pv_SMTzLwq",
        "outputId": "a8d7ac33-ba13-412f-a686-90ba751302cd"
      },
      "outputs": [
        {
          "data": {
            "text/plain": [
              "array([[1, 2, 3],\n",
              "       [9, 8, 7],\n",
              "       [6, 5, 4]])"
            ]
          },
          "execution_count": 76,
          "metadata": {},
          "output_type": "execute_result"
        }
      ],
      "source": [
        "# For working with arrays of mixed dimensions, it can be clearer to use the np.vstack\n",
        "# (vertical stack) and np.hstack (horizontal stack) functions:\n",
        "\n",
        "x = np.array([1,2,3])\n",
        "grid = np.array([[9,8,7],\n",
        "                 [6,5,4]])\n",
        "\n",
        "\n",
        "# vertically stack the arrays\n",
        "np.vstack([x,grid])"
      ]
    },
    {
      "cell_type": "code",
      "execution_count": null,
      "metadata": {
        "id": "vNuyy03XzLwq",
        "outputId": "8e2ff9d0-1499-4dfd-9257-77772f6fa642"
      },
      "outputs": [
        {
          "data": {
            "text/plain": [
              "array([[ 9,  8,  7, 99],\n",
              "       [ 6,  5,  4, 99]])"
            ]
          },
          "execution_count": 77,
          "metadata": {},
          "output_type": "execute_result"
        }
      ],
      "source": [
        "#horizontally stack the arrays\n",
        "\n",
        "y = np.array([[99],\n",
        "            [99]])\n",
        "np.hstack([grid,y])"
      ]
    },
    {
      "cell_type": "markdown",
      "metadata": {
        "id": "B3HYwcoWzLwr"
      },
      "source": [
        "* Similarly, np.dstack will stack arrays along the third axis."
      ]
    },
    {
      "cell_type": "markdown",
      "metadata": {
        "id": "83QdzL7lzLwr"
      },
      "source": [
        "### Splitting of arrays"
      ]
    },
    {
      "cell_type": "markdown",
      "metadata": {
        "id": "0T4BNDXPzLwr"
      },
      "source": [
        "* The opposite of concatenation is splitting, which is implemented by the functions\n",
        "np.split, np.hsplit, and np.vsplit. For each of these, we can pass a list of indices\n",
        "giving the split points:"
      ]
    },
    {
      "cell_type": "code",
      "execution_count": null,
      "metadata": {
        "id": "xnuDLBvlzLwr",
        "outputId": "db444173-c0ee-41e7-c751-b9c1b416f543"
      },
      "outputs": [
        {
          "name": "stdout",
          "output_type": "stream",
          "text": [
            "[1 2 3] [99 99] [3 2 1]\n"
          ]
        }
      ],
      "source": [
        "x = [1,2,3,99,99,3,2,1]\n",
        "x1, x2, x3 = np.split(x, [3,5])\n",
        "print(x1, x2, x3)"
      ]
    },
    {
      "cell_type": "code",
      "execution_count": null,
      "metadata": {
        "id": "CzD_1tIozLws",
        "outputId": "995d3e47-f78b-47a0-b743-dd39f6eb81ff"
      },
      "outputs": [
        {
          "name": "stdout",
          "output_type": "stream",
          "text": [
            "[1 2 3] [99] [99] [3 2 1]\n"
          ]
        }
      ],
      "source": [
        "x = np.array([1,2,3,99,99,3,2,1])\n",
        "x1, x2, x3, x4 = np.split(x, [3,4,5])\n",
        "print(x1, x2, x3,x4)"
      ]
    },
    {
      "cell_type": "markdown",
      "metadata": {
        "id": "Hg7kMsLLzLwt"
      },
      "source": [
        "* Notice that N split points lead to N + 1 subarrays. The related functions np.hsplit\n",
        "and np.vsplit are similar:"
      ]
    },
    {
      "cell_type": "code",
      "execution_count": null,
      "metadata": {
        "id": "3AmhqpD_zLwt",
        "outputId": "aaac5437-fe0f-419d-dc9a-44b56d11a3a5"
      },
      "outputs": [
        {
          "data": {
            "text/plain": [
              "array([[ 0.,  1.,  2.,  3.,  4.,  5.],\n",
              "       [ 6.,  7.,  8.,  9., 10., 11.],\n",
              "       [12., 13., 14., 15., 16., 17.],\n",
              "       [18., 19., 20., 21., 22., 23.],\n",
              "       [24., 25., 26., 27., 28., 29.],\n",
              "       [30., 31., 32., 33., 34., 35.]])"
            ]
          },
          "execution_count": 80,
          "metadata": {},
          "output_type": "execute_result"
        }
      ],
      "source": [
        "grid = np.arange(36,dtype=np.float).reshape((6,6))\n",
        "grid"
      ]
    },
    {
      "cell_type": "code",
      "execution_count": null,
      "metadata": {
        "id": "gUPKc99RzLwu",
        "outputId": "40952293-f789-4897-891d-39c09d09cbde"
      },
      "outputs": [
        {
          "name": "stdout",
          "output_type": "stream",
          "text": [
            "[[ 0.  1.  2.  3.  4.  5.]\n",
            " [ 6.  7.  8.  9. 10. 11.]]\n",
            "[[12. 13. 14. 15. 16. 17.]\n",
            " [18. 19. 20. 21. 22. 23.]\n",
            " [24. 25. 26. 27. 28. 29.]\n",
            " [30. 31. 32. 33. 34. 35.]]\n"
          ]
        }
      ],
      "source": [
        "upper, lower = np.vsplit(grid, [2])\n",
        "print(upper)\n",
        "print(lower)"
      ]
    },
    {
      "cell_type": "code",
      "execution_count": null,
      "metadata": {
        "id": "F_B24cajzLwv",
        "outputId": "a5933ec4-4433-4e7d-a10b-1c2d20c50526"
      },
      "outputs": [
        {
          "name": "stdout",
          "output_type": "stream",
          "text": [
            "upper:  [[ 0.  1.  2.  3.  4.  5.]\n",
            " [ 6.  7.  8.  9. 10. 11.]]\n",
            "middle:  [[12. 13. 14. 15. 16. 17.]]\n",
            "lower:  [[18. 19. 20. 21. 22. 23.]\n",
            " [24. 25. 26. 27. 28. 29.]\n",
            " [30. 31. 32. 33. 34. 35.]]\n"
          ]
        }
      ],
      "source": [
        "upper,middle, lower = np.vsplit(grid, [2,3])\n",
        "print(\"upper: \",upper)\n",
        "print(\"middle: \",middle)\n",
        "print(\"lower: \",lower)"
      ]
    },
    {
      "cell_type": "code",
      "execution_count": null,
      "metadata": {
        "id": "wC2xGvEDzLwv",
        "outputId": "a87c22f7-50ca-46a6-de78-c31d2d869268"
      },
      "outputs": [
        {
          "name": "stdout",
          "output_type": "stream",
          "text": [
            "[[ 0.  1.]\n",
            " [ 6.  7.]\n",
            " [12. 13.]\n",
            " [18. 19.]\n",
            " [24. 25.]\n",
            " [30. 31.]]\n",
            "[[ 2.  3.  4.  5.]\n",
            " [ 8.  9. 10. 11.]\n",
            " [14. 15. 16. 17.]\n",
            " [20. 21. 22. 23.]\n",
            " [26. 27. 28. 29.]\n",
            " [32. 33. 34. 35.]]\n"
          ]
        }
      ],
      "source": [
        "left, right = np.hsplit(grid, [2])\n",
        "print(left)\n",
        "print(right)"
      ]
    },
    {
      "cell_type": "code",
      "execution_count": null,
      "metadata": {
        "id": "JVu_1fQDzLww",
        "outputId": "4f52d74b-0f6c-488d-850b-c578791f5291"
      },
      "outputs": [
        {
          "name": "stdout",
          "output_type": "stream",
          "text": [
            "[[ 0.  1.  2.]\n",
            " [ 6.  7.  8.]\n",
            " [12. 13. 14.]\n",
            " [18. 19. 20.]\n",
            " [24. 25. 26.]\n",
            " [30. 31. 32.]]\n",
            "[[ 3.  4.  5.]\n",
            " [ 9. 10. 11.]\n",
            " [15. 16. 17.]\n",
            " [21. 22. 23.]\n",
            " [27. 28. 29.]\n",
            " [33. 34. 35.]]\n"
          ]
        }
      ],
      "source": [
        "left, right = np.hsplit(grid, 2)\n",
        "print(left)\n",
        "print(right)"
      ]
    },
    {
      "cell_type": "markdown",
      "metadata": {
        "id": "4nC14KMZzLww"
      },
      "source": [
        "* Similarly, np.dsplit will split arrays along the third axis."
      ]
    },
    {
      "cell_type": "markdown",
      "metadata": {
        "id": "X4rY36sNzLww"
      },
      "source": [
        "<a id=\"11\"></a> <br>\n",
        "# Computation on NumPy Arrays: Universal Functions"
      ]
    },
    {
      "cell_type": "markdown",
      "metadata": {
        "id": "VSSkYjt8zLwx"
      },
      "source": [
        "<a id=\"12\"></a> <br>\n",
        "### Exploring NumPy’s UFuncs"
      ]
    },
    {
      "cell_type": "markdown",
      "metadata": {
        "id": "s84ATAItzLwx"
      },
      "source": [
        "* Ufuncs exist in two flavors: unary ufuncs, which operate on a single input, and binary\n",
        "ufuncs, which operate on two inputs. We’ll see examples of both these types of functions here."
      ]
    },
    {
      "cell_type": "markdown",
      "metadata": {
        "id": "1K_w7gozzLwy"
      },
      "source": [
        "<a id=\"13\"></a> <br>\n",
        "#### Array arithmetic"
      ]
    },
    {
      "cell_type": "code",
      "execution_count": null,
      "metadata": {
        "id": "hRGT2UECzLwy",
        "outputId": "ec9fad19-44fa-4448-c9f0-cb4e71dbc8a2"
      },
      "outputs": [
        {
          "name": "stdout",
          "output_type": "stream",
          "text": [
            "x = [0 1 2 3]\n",
            "x + 5 = [5 6 7 8]\n",
            "x - 5 = [-5 -4 -3 -2]\n",
            "x * 2 = [0 2 4 6]\n",
            "x / 2 = [0.  0.5 1.  1.5]\n",
            "x // 2 = [0 0 1 1]\n"
          ]
        }
      ],
      "source": [
        "# NumPy’s ufuncs feel very natural to use because they make use of Python’s native\n",
        "# arithmetic operators. The standard addition, subtraction, multiplication, and division\n",
        "# can all be used:\n",
        "\n",
        "x = np.arange(4)\n",
        "print(\"x =\", x)\n",
        "print(\"x + 5 =\", x + 5)\n",
        "print(\"x - 5 =\", x - 5)\n",
        "print(\"x * 2 =\", x * 2)\n",
        "print(\"x / 2 =\", x / 2)\n",
        "print(\"x // 2 =\", x // 2) # floor division"
      ]
    },
    {
      "cell_type": "code",
      "execution_count": null,
      "metadata": {
        "id": "qRlYV3cEzLwz",
        "outputId": "e1d7423b-bc9a-4c63-c7a6-56ff50682926"
      },
      "outputs": [
        {
          "name": "stdout",
          "output_type": "stream",
          "text": [
            "-x =  [ 0 -1 -2 -3]\n",
            "x ** 2 =  [0 1 4 9]\n",
            "x % 2 =  [0 1 0 1]\n"
          ]
        }
      ],
      "source": [
        "#There is also a unary ufunc for negation, a ** operator for exponentiation, and a %\n",
        "#operator for modulus:\n",
        "\n",
        "print(\"-x = \", -x)\n",
        "print(\"x ** 2 = \", x ** 2)\n",
        "print(\"x % 2 = \", x % 2)"
      ]
    },
    {
      "cell_type": "code",
      "execution_count": null,
      "metadata": {
        "id": "cfONr-0lzLwz",
        "outputId": "966cc50d-48c9-4b8d-d821-9506ec07755e"
      },
      "outputs": [
        {
          "data": {
            "text/plain": [
              "array([-1.  , -2.25, -4.  , -6.25])"
            ]
          },
          "execution_count": 87,
          "metadata": {},
          "output_type": "execute_result"
        }
      ],
      "source": [
        "# In addition, these can be strung together however you wish, and the standard order\n",
        "# of operations is respected:\n",
        "\n",
        "-(0.5*x+1) ** 2"
      ]
    },
    {
      "cell_type": "code",
      "execution_count": null,
      "metadata": {
        "id": "2KVELiWfzLw0",
        "outputId": "c8677a5c-6679-4eaf-f933-f93a99d18be3"
      },
      "outputs": [
        {
          "name": "stdout",
          "output_type": "stream",
          "text": [
            "5\n",
            "[2 3 4 5]\n",
            "[-5 -4 -3 -2]\n",
            "[ 0 -1 -2 -3]\n",
            "[0 3 6 9]\n",
            "[0.  0.5 1.  1.5]\n",
            "[0 0 1 1]\n",
            "[0 1 4 9]\n",
            "[0 1 0 1]\n",
            "[0 1 4 9]\n"
          ]
        }
      ],
      "source": [
        "# All of these arithmetic operations are simply convenient wrappers around specific\n",
        "# functions built into NumPy; for example, the + operator is a wrapper for the add\n",
        "# function:\n",
        "\n",
        "print(np.add(3,2))\n",
        "\n",
        "print(np.add(x,2)) #Addition +\n",
        "print(np.subtract(x,5)) #Subtraction -\n",
        "print(np.negative(x)) #Unary negation -\n",
        "print(np.multiply(x,3)) #Multiplication *\n",
        "print(np.divide(x,2)) #Division /\n",
        "print(np.floor_divide(x,2)) #Floor division //\n",
        "print(np.power(x,2)) #Exponentiation **\n",
        "print(np.mod(x,2)) #Modulus/remainder **\n",
        "\n",
        "print(np.multiply(x, x))"
      ]
    },
    {
      "cell_type": "markdown",
      "metadata": {
        "id": "osDn-XbpzLw1"
      },
      "source": [
        "<a id=\"14\"></a> <br>\n",
        "#### Absolute value"
      ]
    },
    {
      "cell_type": "code",
      "execution_count": null,
      "metadata": {
        "id": "eSZTXHy5zLw1",
        "outputId": "f57f3a7c-a3ad-4aa1-8053-f17dfc868c77"
      },
      "outputs": [
        {
          "data": {
            "text/plain": [
              "array([2, 1, 0, 1, 2])"
            ]
          },
          "execution_count": 89,
          "metadata": {},
          "output_type": "execute_result"
        }
      ],
      "source": [
        "# Just as NumPy understands Python’s built-in arithmetic operators, it also understands\n",
        "# Python’s built-in absolute value function:\n",
        "\n",
        "x = np.array([-2,-1,0,1,2])\n",
        "abs(x)"
      ]
    },
    {
      "cell_type": "code",
      "execution_count": null,
      "metadata": {
        "id": "XZGaQUDBzLw2",
        "outputId": "f3839416-4db9-45b3-a0c7-7b443b0a0974"
      },
      "outputs": [
        {
          "name": "stdout",
          "output_type": "stream",
          "text": [
            "[2 1 0 1 2]\n",
            "[2 1 0 1 2]\n"
          ]
        }
      ],
      "source": [
        "# The corresponding NumPy ufunc is np.absolute, which is also available under the\n",
        "# alias np.abs:\n",
        "\n",
        "print(np.absolute(x))\n",
        "print(np.abs(x))"
      ]
    },
    {
      "cell_type": "code",
      "execution_count": null,
      "metadata": {
        "id": "iED9BnApzLw3",
        "outputId": "de2ac851-c7c1-4323-8f11-301bb9631167"
      },
      "outputs": [
        {
          "data": {
            "text/plain": [
              "array([25.        ,  5.        ,  2.        ,  3.16227766])"
            ]
          },
          "execution_count": 91,
          "metadata": {},
          "output_type": "execute_result"
        }
      ],
      "source": [
        "# This ufunc can also handle complex data, in which the absolute value returns the\n",
        "# magnitude:\n",
        "\n",
        "x = np.array([7-24j,4-3j,2+0j,1+3j])\n",
        "np.abs(x)"
      ]
    },
    {
      "cell_type": "markdown",
      "metadata": {
        "id": "W_yk8LrVzLw3"
      },
      "source": [
        "<a id=\"15\"></a> <br>\n",
        "#### Trigonometric functions"
      ]
    },
    {
      "cell_type": "code",
      "execution_count": null,
      "metadata": {
        "id": "cPMO1C7UzLw4",
        "outputId": "bda61812-a0ea-42fa-8c40-d93d75079205"
      },
      "outputs": [
        {
          "name": "stdout",
          "output_type": "stream",
          "text": [
            "theta      = [0.         1.57079633 3.14159265]\n",
            "sin(theta) = [0.0000000e+00 1.0000000e+00 1.2246468e-16]\n",
            "cos(theta) = [ 1.000000e+00  6.123234e-17 -1.000000e+00]\n",
            "tan(theta) = [ 0.00000000e+00  1.63312394e+16 -1.22464680e-16]\n"
          ]
        }
      ],
      "source": [
        "# NumPy provides a large number of useful ufuncs, and some of the most useful for the\n",
        "# data scientist are the trigonometric functions. We’ll start by defining an array of\n",
        "# angles:\n",
        "\n",
        "theta = np.linspace(0,np.pi,3)\n",
        "\n",
        "\n",
        "#Now we can compute some trigonometric fuctions on these values:\n",
        "print(\"theta      =\",theta)\n",
        "print(\"sin(theta) =\",np.sin(theta))\n",
        "print(\"cos(theta) =\",np.cos(theta))\n",
        "print(\"tan(theta) =\",np.tan(theta))"
      ]
    },
    {
      "cell_type": "code",
      "execution_count": null,
      "metadata": {
        "id": "qsrXJW8hzLw4",
        "outputId": "535782e9-4488-4add-8a99-b808d75c4c32"
      },
      "outputs": [
        {
          "name": "stdout",
          "output_type": "stream",
          "text": [
            "x =  [-1, 0, 1]\n",
            "arcsin(x) =  [-1.57079633  0.          1.57079633]\n",
            "arccos(x) =  [3.14159265 1.57079633 0.        ]\n",
            "arctan(x) =  [-0.78539816  0.          0.78539816]\n"
          ]
        }
      ],
      "source": [
        "x = [-1, 0, 1]\n",
        "\n",
        "print(\"x = \", x)\n",
        "print(\"arcsin(x) = \", np.arcsin(x))\n",
        "print(\"arccos(x) = \", np.arccos(x))\n",
        "print(\"arctan(x) = \", np.arctan(x))"
      ]
    },
    {
      "cell_type": "markdown",
      "metadata": {
        "id": "s6y7wYx5zLw5"
      },
      "source": [
        "<a id=\"16\"></a> <br>\n",
        "#### Exponents and logarithms"
      ]
    },
    {
      "cell_type": "markdown",
      "metadata": {
        "id": "SuiiFaL6zLw5"
      },
      "source": [
        "* Another common type of operation available in a NumPy ufunc are the exponentials:"
      ]
    },
    {
      "cell_type": "code",
      "execution_count": null,
      "metadata": {
        "id": "0IcdihypzLw6",
        "outputId": "b5dc2eb9-8c66-412e-a105-12382cf25aae"
      },
      "outputs": [
        {
          "name": "stdout",
          "output_type": "stream",
          "text": [
            "x      = [1, 2, 3]\n",
            "e^x    = [ 2.71828183  7.3890561  20.08553692]\n",
            "2^x    = [2. 4. 8.]\n",
            "3^x    = [ 3  9 27]\n"
          ]
        }
      ],
      "source": [
        "x = [1,2,3]\n",
        "print(\"x      =\",x)\n",
        "print(\"e^x    =\",np.exp(x))\n",
        "print(\"2^x    =\",np.exp2(x))\n",
        "print(\"3^x    =\",np.power(3,x))"
      ]
    },
    {
      "cell_type": "code",
      "execution_count": null,
      "metadata": {
        "id": "jeAqTre8zLw6",
        "outputId": "7d6d5cdd-e238-43f3-c1b4-b833fa9fc3a7"
      },
      "outputs": [
        {
          "name": "stdout",
          "output_type": "stream",
          "text": [
            "x        = [1, 2, 4, 10]\n",
            "ln(x)    = [0.         0.69314718 1.38629436 2.30258509]\n",
            "log2(x)  = [0.         1.         2.         3.32192809]\n",
            "log10(x) = [0.         0.30103    0.60205999 1.        ]\n"
          ]
        }
      ],
      "source": [
        "# The inverse of the exponentials, the logarithms, are also available. The basic np.log\n",
        "# gives the natural logarithm; if you prefer to compute the base-2 logarithm or the\n",
        "# base-10 logarithm, these are available as well:\n",
        "\n",
        "x = [1, 2, 4, 10]\n",
        "print(\"x        =\", x)\n",
        "print(\"ln(x)    =\", np.log(x))\n",
        "print(\"log2(x)  =\", np.log2(x))\n",
        "print(\"log10(x) =\", np.log10(x))"
      ]
    },
    {
      "cell_type": "code",
      "execution_count": null,
      "metadata": {
        "id": "EOgMNqcCzLw6",
        "outputId": "a83a4945-093d-4f50-fae9-91c50b4330e2"
      },
      "outputs": [
        {
          "name": "stdout",
          "output_type": "stream",
          "text": [
            "exp(x) - 1 = [0.         0.0010005  0.01005017 0.10517092]\n",
            "log(1 + x) = [0.         0.0009995  0.00995033 0.09531018]\n"
          ]
        }
      ],
      "source": [
        "# There are also some specialized versions that are useful for maintaining precision\n",
        "# with very small input:\n",
        "\n",
        "x = [0, 0.001, 0.01, 0.1]\n",
        "print(\"exp(x) - 1 =\", np.expm1(x))\n",
        "print(\"log(1 + x) =\", np.log1p(x))"
      ]
    },
    {
      "cell_type": "markdown",
      "metadata": {
        "id": "77Y6RCojzLw7"
      },
      "source": [
        "<a id=\"17\"></a> <br>\n",
        "### Advanced Ufunc Features"
      ]
    },
    {
      "cell_type": "markdown",
      "metadata": {
        "id": "gF1hEl0OzLw7"
      },
      "source": [
        "<a id=\"18\"></a> <br>\n",
        "#### Specifying output"
      ]
    },
    {
      "cell_type": "markdown",
      "metadata": {
        "id": "Om3nuD3WzLw8"
      },
      "source": [
        "* For large calculations, it is sometimes useful to be able to specify the array where the\n",
        "result of the calculation will be stored. Rather than creating a temporary array, you\n",
        "can use this to write computation results directly to the memory location where you’d\n",
        "like them to be. For all ufuncs, you can do this using the out argument of the\n",
        "function:"
      ]
    },
    {
      "cell_type": "code",
      "execution_count": null,
      "metadata": {
        "id": "4vaQt0PAzLw8",
        "outputId": "4f69cac0-f8a8-4af5-e7ae-f3e38b141f5c"
      },
      "outputs": [
        {
          "name": "stdout",
          "output_type": "stream",
          "text": [
            "[ 0. 10. 20. 30. 40.]\n"
          ]
        }
      ],
      "source": [
        "x = np.arange(5)\n",
        "y = np.empty(5)\n",
        "np.multiply(x, 10, out=y)\n",
        "print(y)"
      ]
    },
    {
      "cell_type": "code",
      "execution_count": null,
      "metadata": {
        "id": "ue2IRzGizLw9",
        "outputId": "540bb516-b479-40c6-c524-33704df80f78"
      },
      "outputs": [
        {
          "name": "stdout",
          "output_type": "stream",
          "text": [
            "[ 1.  0.  2.  0.  4.  0.  8.  0. 16.  0.]\n"
          ]
        }
      ],
      "source": [
        "#This can even be used with array views. For example, we can write the results of a\n",
        "#computation to every other element of a specified array:\n",
        "\n",
        "y = np.zeros(10)\n",
        "np.power(2, x, out=y[::2])\n",
        "print(y)\n",
        "\n",
        "# If we had instead written y[::2] = 2 ** x, this would have resulted in the creation\n",
        "# of a temporary array to hold the results of 2 ** x, followed by a second operation\n",
        "# copying those values into the y array. This doesn’t make much of a difference for such\n",
        "# a small computation, but for very large arrays the memory savings from careful use of\n",
        "# the out argument can be significant."
      ]
    },
    {
      "cell_type": "code",
      "execution_count": null,
      "metadata": {
        "id": "Ojvb5fF3zLw-",
        "outputId": "1d59f77a-bcc5-4465-bef3-fe630af65f2d"
      },
      "outputs": [
        {
          "name": "stdout",
          "output_type": "stream",
          "text": [
            "[ 1.  0.  2.  0.  4.  0.  8.  0. 16.  0.]\n"
          ]
        }
      ],
      "source": [
        "y = np.zeros(10)\n",
        "y[::2] = 2 ** x\n",
        "print(y)"
      ]
    },
    {
      "cell_type": "markdown",
      "metadata": {
        "id": "pxtOFwN4zLw-"
      },
      "source": [
        "<a id=\"19\"></a> <br>\n",
        "#### Aggregates"
      ]
    },
    {
      "cell_type": "markdown",
      "metadata": {
        "id": "xzeS4JQFzLw_"
      },
      "source": [
        "* For binary ufuncs, there are some interesting aggregates that can be computed\n",
        "directly from the object. For example, if we’d like to reduce an array with a particular\n",
        "operation, we can use the reduce method of any ufunc. A reduce repeatedly applies a\n",
        "given operation to the elements of an array until only a single result remains.\n",
        "For example, calling reduce on the add ufunc returns the sum of all elements in the\n",
        "array:"
      ]
    },
    {
      "cell_type": "code",
      "execution_count": null,
      "metadata": {
        "id": "SQfq0xRXzLw_",
        "outputId": "7b35f4aa-a710-4fb8-ffbd-cca01796d45a"
      },
      "outputs": [
        {
          "name": "stdout",
          "output_type": "stream",
          "text": [
            "15\n",
            "-13\n",
            "120\n"
          ]
        }
      ],
      "source": [
        "x = np.arange(1,6)\n",
        "print(np.add.reduce(x))\n",
        "print(np.subtract.reduce(x))\n",
        "print(np.multiply.reduce(x))"
      ]
    },
    {
      "cell_type": "code",
      "execution_count": null,
      "metadata": {
        "id": "sLgz-OlqzLxA",
        "outputId": "606c3151-cae1-44f0-f503-012959f0ce85"
      },
      "outputs": [
        {
          "name": "stdout",
          "output_type": "stream",
          "text": [
            "[ 1  3  6 10 15]\n",
            "[  1  -1  -4  -8 -13]\n",
            "[  1   2   6  24 120]\n",
            "[1.         0.5        0.16666667 0.04166667 0.00833333]\n",
            "[1 0 0 0 0]\n"
          ]
        }
      ],
      "source": [
        "#If we’d like to store all the intermediate results of the computation, we can instead use\n",
        "#accumulate:\n",
        "\n",
        "print(np.add.accumulate(x))\n",
        "print(np.subtract.accumulate(x))\n",
        "print(np.multiply.accumulate(x))\n",
        "print(np.divide.accumulate(x))\n",
        "print(np.floor_divide.accumulate(x))"
      ]
    },
    {
      "cell_type": "markdown",
      "metadata": {
        "id": "b3j7d0xEzLxB"
      },
      "source": [
        "<a id=\"20\"></a> <br>\n",
        "#### Outer products"
      ]
    },
    {
      "cell_type": "markdown",
      "metadata": {
        "id": "ndEUUaA_zLxB"
      },
      "source": [
        "* Finally, any ufunc can compute the output of all pairs of two different inputs using\n",
        "the outer method. This allows you, in one line, to do things like create a multiplica‐\n",
        "tion table:"
      ]
    },
    {
      "cell_type": "code",
      "execution_count": null,
      "metadata": {
        "id": "4dSoAgKwzLxB",
        "outputId": "7f1c2bdb-8e6f-401e-a779-171e6a7a00e1"
      },
      "outputs": [
        {
          "data": {
            "text/plain": [
              "array([[ 1,  2,  3,  4,  5],\n",
              "       [ 2,  4,  6,  8, 10],\n",
              "       [ 3,  6,  9, 12, 15],\n",
              "       [ 4,  8, 12, 16, 20],\n",
              "       [ 5, 10, 15, 20, 25]])"
            ]
          },
          "execution_count": 102,
          "metadata": {},
          "output_type": "execute_result"
        }
      ],
      "source": [
        "x = np.arange(1,6)\n",
        "np.multiply.outer(x, x)"
      ]
    },
    {
      "cell_type": "markdown",
      "metadata": {
        "id": "L-sZSvGjzLxC"
      },
      "source": [
        "<a id=\"21\"></a> <br>\n",
        "# Aggregations: Min, Max, and Everything in Between"
      ]
    },
    {
      "cell_type": "markdown",
      "metadata": {
        "id": "hFNBUQvBzLxC"
      },
      "source": [
        "* NumPy has fast built-in aggregation functions for working on arrays; we’ll discuss\n",
        "and demonstrate some of them here."
      ]
    },
    {
      "cell_type": "markdown",
      "metadata": {
        "id": "lqKwUqWFzLxD"
      },
      "source": [
        "<a id=\"22\"></a> <br>\n",
        "### Summing the Values in an Array"
      ]
    },
    {
      "cell_type": "code",
      "execution_count": null,
      "metadata": {
        "id": "IDh90W0CzLxD",
        "outputId": "2a6f0649-006b-4090-d16a-146dcf170c50"
      },
      "outputs": [
        {
          "data": {
            "text/plain": [
              "52.12818058833704"
            ]
          },
          "execution_count": 103,
          "metadata": {},
          "output_type": "execute_result"
        }
      ],
      "source": [
        "# As a quick example, consider computing the sum of all values in an array. Python\n",
        "# itself can do this using the built-in sum function:\n",
        "\n",
        "L = np.random.random(100)\n",
        "sum(L)"
      ]
    },
    {
      "cell_type": "code",
      "execution_count": null,
      "metadata": {
        "id": "69WLKHTyzLxD",
        "outputId": "3fb94442-b993-4019-8fe1-e58b4f1c9104"
      },
      "outputs": [
        {
          "data": {
            "text/plain": [
              "52.12818058833702"
            ]
          },
          "execution_count": 104,
          "metadata": {},
          "output_type": "execute_result"
        }
      ],
      "source": [
        "#The syntax is quite similar to that of NumPy’s sum function, and the result is the same\n",
        "#in the simplest case:\n",
        "\n",
        "np.sum(L)"
      ]
    },
    {
      "cell_type": "code",
      "execution_count": null,
      "metadata": {
        "id": "Z82qIXVOzLxE",
        "outputId": "19eceb4b-1328-409c-9a15-e425263c8d04"
      },
      "outputs": [
        {
          "name": "stdout",
          "output_type": "stream",
          "text": [
            "84.8 ms ± 788 µs per loop (mean ± std. dev. of 7 runs, 10 loops each)\n",
            "339 µs ± 24.5 µs per loop (mean ± std. dev. of 7 runs, 1000 loops each)\n"
          ]
        }
      ],
      "source": [
        "# However, because it executes the operation in compiled code, NumPy’s version of the\n",
        "# operation is computed much more quickly:\n",
        "\n",
        "big_array = np.random.rand(1000000)\n",
        "%timeit sum(big_array)\n",
        "%timeit np.sum(big_array)"
      ]
    },
    {
      "cell_type": "markdown",
      "metadata": {
        "id": "IxKg3s0hzLxE"
      },
      "source": [
        "<a id=\"23\"></a> <br>\n",
        "### Minimum and Maximum"
      ]
    },
    {
      "cell_type": "code",
      "execution_count": null,
      "metadata": {
        "id": "nfe2JC_ezLxF",
        "outputId": "a85876d7-e983-4372-a6bb-5448e74cdd88"
      },
      "outputs": [
        {
          "data": {
            "text/plain": [
              "(1.4057692298008462e-06, 0.9999994392723005)"
            ]
          },
          "execution_count": 106,
          "metadata": {},
          "output_type": "execute_result"
        }
      ],
      "source": [
        "#Similarly, Python has built-in min and max functions, used to find the minimum value\n",
        "#and maximum value of any given array:\n",
        "\n",
        "min(big_array),max(big_array)"
      ]
    },
    {
      "cell_type": "code",
      "execution_count": null,
      "metadata": {
        "id": "xpZC-5cUzLxF",
        "outputId": "3b373255-9f8f-43b3-cf78-71aa00db415c"
      },
      "outputs": [
        {
          "data": {
            "text/plain": [
              "(1.4057692298008462e-06, 0.9999994392723005)"
            ]
          },
          "execution_count": 107,
          "metadata": {},
          "output_type": "execute_result"
        }
      ],
      "source": [
        "#NumPy’s corresponding functions have similar syntax, and again operate much more\n",
        "#quickly:\n",
        "\n",
        "np.min(big_array),np.max(big_array)"
      ]
    },
    {
      "cell_type": "code",
      "execution_count": null,
      "metadata": {
        "id": "zzMg_kq3zLxG",
        "outputId": "c9d76163-8fd5-4752-e58f-8098fb72bba6"
      },
      "outputs": [
        {
          "name": "stdout",
          "output_type": "stream",
          "text": [
            "59.9 ms ± 1.33 ms per loop (mean ± std. dev. of 7 runs, 10 loops each)\n",
            "382 µs ± 6.65 µs per loop (mean ± std. dev. of 7 runs, 1000 loops each)\n"
          ]
        }
      ],
      "source": [
        "%timeit min(big_array)\n",
        "%timeit np.min(big_array)"
      ]
    },
    {
      "cell_type": "code",
      "execution_count": null,
      "metadata": {
        "id": "97acmF9mzLxG",
        "outputId": "9044ec1f-7d9e-4078-b737-a917529a8b43"
      },
      "outputs": [
        {
          "name": "stdout",
          "output_type": "stream",
          "text": [
            "1.4057692298008462e-06 0.9999994392723005 500202.5348847683\n",
            "425 µs ± 11.5 µs per loop (mean ± std. dev. of 7 runs, 1000 loops each)\n",
            "412 µs ± 4.47 µs per loop (mean ± std. dev. of 7 runs, 1000 loops each)\n"
          ]
        }
      ],
      "source": [
        "# For min, max, sum, and several other NumPy aggregates, a shorter syntax is to use\n",
        "# methods of the array object itself:\n",
        "\n",
        "print(big_array.min(), big_array.max(), big_array.sum())\n",
        "# Whenever possible, make sure that you are using the NumPy version of these aggre‐\n",
        "#gates when operating on NumPy arrays!\n",
        "%timeit np.min(big_array)\n",
        "%timeit big_array.min()"
      ]
    },
    {
      "cell_type": "markdown",
      "metadata": {
        "id": "vxCB01U2zLxG"
      },
      "source": [
        "<a id=\"24\"></a> <br>\n",
        "### Multidimensional aggregates"
      ]
    },
    {
      "cell_type": "code",
      "execution_count": null,
      "metadata": {
        "id": "TRcgGOjDzLxH",
        "outputId": "bc04f564-b055-42cb-ddeb-6cfaa61880d8"
      },
      "outputs": [
        {
          "name": "stdout",
          "output_type": "stream",
          "text": [
            "[[0.50063048 0.07383653 0.49018646 0.72521956]\n",
            " [0.84926562 0.10226215 0.99559424 0.59250301]\n",
            " [0.53509    0.88518089 0.25518136 0.13130483]]\n"
          ]
        },
        {
          "data": {
            "text/plain": [
              "6.1362551272647154"
            ]
          },
          "execution_count": 110,
          "metadata": {},
          "output_type": "execute_result"
        }
      ],
      "source": [
        "# One common type of aggregation operation is an aggregate along a row or column.\n",
        "# Say you have some data stored in a two-dimensional array:\n",
        "\n",
        "M = np.random.random((3,4))\n",
        "print(M)\n",
        "\n",
        "M.sum()"
      ]
    },
    {
      "cell_type": "code",
      "execution_count": null,
      "metadata": {
        "id": "aYDDW4vpzLxH",
        "outputId": "908a514d-e498-4f14-df35-51ea73e3acd4"
      },
      "outputs": [
        {
          "name": "stdout",
          "output_type": "stream",
          "text": [
            "[0.50063048 0.07383653 0.25518136 0.13130483]\n",
            "[0.50063048 0.07383653 0.25518136 0.13130483]\n"
          ]
        },
        {
          "data": {
            "text/plain": [
              "array([[0.50063048, 0.07383653, 0.49018646, 0.72521956],\n",
              "       [0.84926562, 0.10226215, 0.99559424, 0.59250301],\n",
              "       [0.53509   , 0.88518089, 0.25518136, 0.13130483]])"
            ]
          },
          "execution_count": 111,
          "metadata": {},
          "output_type": "execute_result"
        }
      ],
      "source": [
        "# Aggregation functions take an additional argument specifying the axis along which\n",
        "# the aggregate is computed. For example, we can find the minimum value within each\n",
        "# column by specifying axis=0:\n",
        "\n",
        "print(M.min(axis=0))\n",
        "#or use that way\n",
        "print(np.min(M,axis=0))\n",
        "M"
      ]
    },
    {
      "cell_type": "code",
      "execution_count": null,
      "metadata": {
        "id": "IO-zshHpzLxI",
        "outputId": "74542d4e-6ef8-4fc3-ba61-d873fdcab407"
      },
      "outputs": [
        {
          "data": {
            "text/plain": [
              "array([0.72521956, 0.99559424, 0.88518089])"
            ]
          },
          "execution_count": 112,
          "metadata": {},
          "output_type": "execute_result"
        }
      ],
      "source": [
        "# Similarly, we can find the maximum value within each row:\n",
        "\n",
        "M.max(axis=1)"
      ]
    },
    {
      "cell_type": "code",
      "execution_count": null,
      "metadata": {
        "id": "cy5Dh3hhzLxI",
        "outputId": "a85a77f4-dbe7-4bd8-e4bc-0114587ef049"
      },
      "outputs": [
        {
          "name": "stdout",
          "output_type": "stream",
          "text": [
            "np.sum       = nan\n",
            "np.nansum    = 12.0\n",
            "np.mean      = nan\n",
            "np.nanmean   = 3.0\n",
            "np.std       = nan\n",
            "np.nanstd    = 1.5811388300841898\n",
            "np.argmin    = 2\n",
            "np.nanargmin = 0\n"
          ]
        }
      ],
      "source": [
        "# Note that some of these NaN-safe functions were not added until\n",
        "# NumPy 1.8, so they will not be available in older NumPy versions.\n",
        "\n",
        "x = np.array([1,2,np.nan,4,5])\n",
        "\n",
        "print(\"np.sum       =\",np.sum(x))\n",
        "print(\"np.nansum    =\",np.nansum(x))\n",
        "\n",
        "print(\"np.mean      =\",np.mean(x))\n",
        "print(\"np.nanmean   =\",np.nanmean(x))\n",
        "\n",
        "print(\"np.std       =\",np.std(x))\n",
        "print(\"np.nanstd    =\",np.nanstd(x))\n",
        "\n",
        "\n",
        "#Be careful that this is not a real index of minimum value.\n",
        "print(\"np.argmin    =\",np.argmin(x)) \n",
        "#if there is a nan value in an array, it returns index of nan value.\n",
        "\n",
        "\n",
        "print(\"np.nanargmin =\",np.nanargmin(x))\n"
      ]
    },
    {
      "cell_type": "markdown",
      "metadata": {
        "id": "LDSdEW7SzLxI"
      },
      "source": [
        "<img src=\"https://3.bp.blogspot.com/-2pjqt9Ga6IM/W20-sIVK0II/AAAAAAAAXVM/BB74tRGTiwgcYTgezVLD3LKH7NFj4pjpgCLcBGAs/s1600/4214_t2-3.PNG\" alt=\"cce\" border=\"0\">"
      ]
    },
    {
      "cell_type": "markdown",
      "metadata": {
        "id": "9sBtqnFTzLxJ"
      },
      "source": [
        "<a id=\"25\"></a> <br>\n",
        "# Computation on Arrays: Broadcasting"
      ]
    },
    {
      "cell_type": "markdown",
      "metadata": {
        "id": "_0_pxJmezLxJ"
      },
      "source": [
        "* Broadcasting is simply a\n",
        "set of rules for applying binary ufuncs (addition, subtraction, multiplication, etc.) on\n",
        "arrays of different sizes."
      ]
    },
    {
      "cell_type": "markdown",
      "metadata": {
        "id": "vj5rOiZgzLxJ"
      },
      "source": [
        "<a id=\"26\"></a> <br>\n",
        "### Introducing Broadcasting"
      ]
    },
    {
      "cell_type": "code",
      "execution_count": null,
      "metadata": {
        "id": "OHXLDnlpzLxK",
        "outputId": "66cfece0-137a-4317-b6b3-b32853c435c1"
      },
      "outputs": [
        {
          "data": {
            "text/plain": [
              "array([5, 6, 7])"
            ]
          },
          "execution_count": 114,
          "metadata": {},
          "output_type": "execute_result"
        }
      ],
      "source": [
        "import numpy as np\n",
        "\n",
        "a = np.array([0,1,2])\n",
        "b = np.array([5,5,5])\n",
        "a+b"
      ]
    },
    {
      "cell_type": "code",
      "execution_count": null,
      "metadata": {
        "id": "gVg6tjSUzLxK",
        "outputId": "536b9079-2554-4f40-8787-3925ce07086a"
      },
      "outputs": [
        {
          "data": {
            "text/plain": [
              "array([5, 6, 7])"
            ]
          },
          "execution_count": 115,
          "metadata": {},
          "output_type": "execute_result"
        }
      ],
      "source": [
        "a+5"
      ]
    },
    {
      "cell_type": "code",
      "execution_count": null,
      "metadata": {
        "id": "RLbsMWgazLxK",
        "outputId": "ef7f6682-3f10-4d6e-91b9-f5a64c5907ad"
      },
      "outputs": [
        {
          "data": {
            "text/plain": [
              "array([[1., 1., 1.],\n",
              "       [1., 1., 1.],\n",
              "       [1., 1., 1.]])"
            ]
          },
          "execution_count": 116,
          "metadata": {},
          "output_type": "execute_result"
        }
      ],
      "source": [
        "# We can similarly extend this to arrays of higher dimension. Observe the result when\n",
        "# we add a one-dimensional array to a two-dimensional array:\n",
        "\n",
        "M = np.ones((3,3))\n",
        "M"
      ]
    },
    {
      "cell_type": "code",
      "execution_count": null,
      "metadata": {
        "id": "ShKyv_11zLxL",
        "outputId": "37b6e2e3-1bc6-4bf5-ee70-bd4a9504262b"
      },
      "outputs": [
        {
          "data": {
            "text/plain": [
              "array([[1., 2., 3.],\n",
              "       [1., 2., 3.],\n",
              "       [1., 2., 3.]])"
            ]
          },
          "execution_count": 117,
          "metadata": {},
          "output_type": "execute_result"
        }
      ],
      "source": [
        "M+a\n",
        "\n",
        "# Here the one-dimensional array a is stretched, or broadcast, across the second\n",
        "# dimension in order to match the shape of M ."
      ]
    },
    {
      "cell_type": "code",
      "execution_count": null,
      "metadata": {
        "id": "scgvJeQIzLxL",
        "outputId": "0aadba77-302d-4c2b-e77e-4f55a122178e"
      },
      "outputs": [
        {
          "name": "stdout",
          "output_type": "stream",
          "text": [
            "[0 1 2]\n",
            "[[0]\n",
            " [1]\n",
            " [2]]\n"
          ]
        }
      ],
      "source": [
        "# here we’ve stretched both a and b to match a common shape, and the result is a two-\n",
        "# dimensional array!\n",
        "\n",
        "a = np.arange(3) #(3,) 1 dimensional\n",
        "b = np.arange(3)[:,np.newaxis] #(3,1) 2 dimensional\n",
        "print(a)\n",
        "print(b)"
      ]
    },
    {
      "cell_type": "code",
      "execution_count": null,
      "metadata": {
        "id": "LIZgpjrkzLxM",
        "outputId": "be014602-4237-49e8-fb43-9efd24956755"
      },
      "outputs": [
        {
          "data": {
            "text/plain": [
              "array([[0, 1, 2],\n",
              "       [1, 2, 3],\n",
              "       [2, 3, 4]])"
            ]
          },
          "execution_count": 119,
          "metadata": {},
          "output_type": "execute_result"
        }
      ],
      "source": [
        "a+b"
      ]
    },
    {
      "cell_type": "markdown",
      "metadata": {
        "id": "Lbpk2yaJzLxM"
      },
      "source": [
        "<a id=\"27\"></a> <br>\n",
        "### Visualization of NumPy broadcasting\n",
        "\n",
        "<img src=\"https://jakevdp.github.io/PythonDataScienceHandbook/figures/02.05-broadcasting.png\" alt=\"broadcasting\" border=\"0\">"
      ]
    },
    {
      "cell_type": "markdown",
      "metadata": {
        "id": "PQD5CH-hzLxN"
      },
      "source": [
        "#### Rules of Broadcasting"
      ]
    },
    {
      "cell_type": "markdown",
      "metadata": {
        "id": "G3-6_cfCzLxN"
      },
      "source": [
        "* **Broadcasting in NumPy follows a strict set of rules to determine the interaction\n",
        "between the two arrays:**\n",
        "    \n",
        "* Rule 1: If the two arrays differ in their number of dimensions, the shape of the\n",
        "one with fewer dimensions is padded with ones on its leading (left) side.\n",
        "* Rule 2: If the shape of the two arrays does not match in any dimension, the array\n",
        "with shape equal to 1 in that dimension is stretched to match the other shape.\n",
        "* Rule 3: If in any dimension the sizes disagree and neither is equal to 1, an error is\n",
        "raised."
      ]
    },
    {
      "cell_type": "markdown",
      "metadata": {
        "id": "GnDXzRbszLxO"
      },
      "source": [
        "<a id=\"28\"></a> <br>\n",
        "### Broadcasting example 1"
      ]
    },
    {
      "cell_type": "code",
      "execution_count": null,
      "metadata": {
        "id": "PyJW_H-MzLxO",
        "outputId": "09ad8c81-cb9e-4c70-e6d5-ec2dcf61b5cc"
      },
      "outputs": [
        {
          "data": {
            "text/plain": [
              "array([[1., 2., 3.],\n",
              "       [1., 2., 3.]])"
            ]
          },
          "execution_count": 120,
          "metadata": {},
          "output_type": "execute_result"
        }
      ],
      "source": [
        "#Let’s look at adding a two-dimensional array to a one-dimensional array:\n",
        "M = np.ones((2,3))\n",
        "a = np.arange(3)\n",
        "\n",
        "# Let’s consider an operation on these two arrays. The shapes of the arrays are:\n",
        "# M.shape = (2, 3)\n",
        "# a.shape = (3,)\n",
        "# We see by rule 1 that the array a has fewer dimensions, so we pad it on the left with\n",
        "# ones:\n",
        "# M.shape -> (2, 3)\n",
        "# a.shape -> (1, 3)\n",
        "# By rule 2, we now see that the first dimension disagrees, so we stretch this dimension\n",
        "# to match:\n",
        "# M.shape -> (2, 3)\n",
        "# a.shape -> (2, 3)\n",
        "# The shapes match, and we see that the final shape will be (2, 3) :\n",
        "\n",
        "M+a"
      ]
    },
    {
      "cell_type": "markdown",
      "metadata": {
        "id": "96gtUtMqzLxP"
      },
      "source": [
        "<a id=\"29\"></a> <br>\n",
        "### Broadcasting example 2"
      ]
    },
    {
      "cell_type": "code",
      "execution_count": null,
      "metadata": {
        "id": "ePW7Og_pzLxP",
        "outputId": "24228fbb-5017-4fd7-9fe3-89cbf2e78d09"
      },
      "outputs": [
        {
          "data": {
            "text/plain": [
              "array([[0, 1, 2],\n",
              "       [1, 2, 3],\n",
              "       [2, 3, 4]])"
            ]
          },
          "execution_count": 121,
          "metadata": {},
          "output_type": "execute_result"
        }
      ],
      "source": [
        "# Let’s take a look at an example where both arrays need to be broadcast:\n",
        "a = np.arange(3).reshape((3,1))\n",
        "b = np.arange(3)\n",
        "# Again, we’ll start by writing out the shape of the arrays:\n",
        "\n",
        "# a.shape = (3, 1)\n",
        "# b.shape = (3,)\n",
        "# |\n",
        "# Rule 1 says we must pad the shape of b with ones:\n",
        "# a.shape -> (3, 1)\n",
        "# b.shape -> (1, 3)\n",
        "# And rule 2 tells us that we upgrade each of these ones to match the corresponding\n",
        "# size of the other array:\n",
        "# a.shape -> (3, 3)\n",
        "# b.shape -> (3, 3)\n",
        "# Because the result matches, these shapes are compatible. We can see this here:\n",
        "a+b"
      ]
    },
    {
      "cell_type": "markdown",
      "metadata": {
        "id": "3L5w9id-zLxQ"
      },
      "source": [
        "<a id=\"30\"></a> <br>\n",
        "### Broadcasting example 3"
      ]
    },
    {
      "cell_type": "code",
      "execution_count": null,
      "metadata": {
        "id": "yjAjn38ozLxQ"
      },
      "outputs": [],
      "source": [
        "# Now let’s take a look at an example in which the two arrays are not compatible:\n",
        "\n",
        "M = np.ones((3,2))\n",
        "a = np.arange(3)\n",
        "\n",
        "# This is just a slightly different situation than in the first example: the matrix M is\n",
        "# transposed. How does this affect the calculation? The shapes of the arrays are:\n",
        "# M.shape = (3, 2)\n",
        "# a.shape = (3,)\n",
        "# Again, rule 1 tells us that we must pad the shape of a with ones:\n",
        "# M.shape -> (3, 2)\n",
        "# a.shape -> (1, 3)\n",
        "# By rule 2, the first dimension of a is stretched to match that of M :\n",
        "# M.shape -> (3, 2)\n",
        "# a.shape -> (3, 3)\n",
        "# Now we hit rule 3—the final shapes do not match, so these two arrays are incompati‐\n",
        "# ble, as we can observe by attempting this operation:\n",
        "\n",
        "# print(M+a) #ERROR! operands could not be broadcast together with shapes"
      ]
    },
    {
      "cell_type": "code",
      "execution_count": null,
      "metadata": {
        "id": "kXx3WK1-zLxR",
        "outputId": "bdd1192d-8759-4a8e-def5-3f6588a6515e"
      },
      "outputs": [
        {
          "name": "stdout",
          "output_type": "stream",
          "text": [
            "(3, 1)\n"
          ]
        },
        {
          "data": {
            "text/plain": [
              "array([[1., 1.],\n",
              "       [2., 2.],\n",
              "       [3., 3.]])"
            ]
          },
          "execution_count": 123,
          "metadata": {},
          "output_type": "execute_result"
        }
      ],
      "source": [
        "print(a[:, np.newaxis].shape)\n",
        "M + a[:, np.newaxis]"
      ]
    },
    {
      "cell_type": "markdown",
      "metadata": {
        "id": "KY8jbZswzLxS"
      },
      "source": [
        "<a id=\"31\"></a> <br>\n",
        "# Comparisons, Masks, and Boolean Logic"
      ]
    },
    {
      "cell_type": "markdown",
      "metadata": {
        "id": "Hjg1vcXJzLxS"
      },
      "source": [
        "<a id=\"32\"></a> <br>\n",
        "### Comparison Operators as ufuncs"
      ]
    },
    {
      "cell_type": "markdown",
      "metadata": {
        "id": "GKj50gf4zLxT"
      },
      "source": [
        "* The result of these comparison operators is always an array with a Boolean data type.\n",
        "All six of the standard comparison operations are available:\n",
        "\n",
        "* for example, you might wish to count all values greater than a certain value,\n",
        "or perhaps remove all outliers that are above some threshold. In NumPy,\n",
        "Boolean masking is often the most efficient way to accomplish these types of tasks."
      ]
    },
    {
      "cell_type": "code",
      "execution_count": null,
      "metadata": {
        "id": "yO8p8m2pzLxT",
        "outputId": "ae7dd8f9-a6bd-4898-8e1a-cf7c5b8e5438"
      },
      "outputs": [
        {
          "name": "stdout",
          "output_type": "stream",
          "text": [
            "[ True  True False False False]\n",
            "[False False False  True  True]\n",
            "[ True  True  True False False]\n",
            "[False False  True  True  True]\n",
            "[ True  True False  True  True]\n",
            "[False False  True False False]\n"
          ]
        }
      ],
      "source": [
        "x = np.array([1,2,3,4,5])\n",
        "\n",
        "print(x<3)  # less than\n",
        "print(x>3)  # greater than\n",
        "print(x<=3) #less than or equal\n",
        "print(x>=3) #greater than or equal\n",
        "print(x!=3) #not equal\n",
        "print(x==3) #equal"
      ]
    },
    {
      "cell_type": "code",
      "execution_count": null,
      "metadata": {
        "id": "ExecPUJyzLxT",
        "outputId": "9837f58b-40e9-44b5-c929-311ecfbd94d9"
      },
      "outputs": [
        {
          "data": {
            "text/plain": [
              "array([ True,  True, False, False, False])"
            ]
          },
          "execution_count": 125,
          "metadata": {},
          "output_type": "execute_result"
        }
      ],
      "source": [
        "# It is also possible to do an element-by-element comparison of two arrays, and to\n",
        "# include compound expressions:\n",
        "\n",
        "(2*x) == (2**x)"
      ]
    },
    {
      "cell_type": "code",
      "execution_count": null,
      "metadata": {
        "id": "fk2RTi8RzLxU"
      },
      "outputs": [],
      "source": [
        "# As in the case of arithmetic operators, the comparison operators are implemented as\n",
        "# ufuncs in NumPy; for example, when you write x < 3 , internally NumPy uses\n",
        "# np.less(x, 3) . A summary of the comparison operators and their equivalent ufunc\n",
        "# is shown here:"
      ]
    },
    {
      "cell_type": "markdown",
      "metadata": {
        "id": "yE58HQjQzLxV"
      },
      "source": [
        "<a id=\"33\"></a> <br>\n",
        "### Comparison operators and their equivalent\n",
        "\n",
        "<img src=\"https://3.bp.blogspot.com/-ePv8m0F9BaI/W4nwyN2vb2I/AAAAAAAAXWs/zF0LYfQGYzI4u4JILeHSnH4-jRoUgk-TwCLcBGAs/s1600/4229_2.PNG\" alt=\"Comparison operators and their equivalent\" border=\"0\">"
      ]
    },
    {
      "cell_type": "code",
      "execution_count": null,
      "metadata": {
        "id": "skVq32_PzLxV",
        "outputId": "9c007c0d-c797-47c2-9e49-f3057d1924d3"
      },
      "outputs": [
        {
          "name": "stdout",
          "output_type": "stream",
          "text": [
            "[[5 0 3 3]\n",
            " [7 9 3 5]\n",
            " [2 4 7 6]]\n"
          ]
        },
        {
          "data": {
            "text/plain": [
              "array([[ True,  True,  True,  True],\n",
              "       [False, False,  True,  True],\n",
              "       [ True,  True, False, False]])"
            ]
          },
          "execution_count": 127,
          "metadata": {},
          "output_type": "execute_result"
        }
      ],
      "source": [
        "rng = np.random.RandomState(seed=0)\n",
        "x = rng.randint(10, size=(3,4))\n",
        "print(x)\n",
        "\n",
        "x<6"
      ]
    },
    {
      "cell_type": "markdown",
      "metadata": {
        "id": "Mdw9SpnkzLxW"
      },
      "source": [
        "<a id=\"34\"></a> <br>\n",
        "### Working with Boolean Arrays "
      ]
    },
    {
      "cell_type": "code",
      "execution_count": null,
      "metadata": {
        "id": "mmUOShNZzLxW",
        "outputId": "9bb70e5a-fc20-4e57-cdfe-98581d4e0320"
      },
      "outputs": [
        {
          "name": "stdout",
          "output_type": "stream",
          "text": [
            "[[5 0 3 3]\n",
            " [7 9 3 5]\n",
            " [2 4 7 6]]\n",
            "1-:  8\n",
            "2-:  8\n",
            "3-:  12\n",
            "4-:  12\n"
          ]
        }
      ],
      "source": [
        "print(x)\n",
        "\n",
        "# To count the number of True entries in a Boolean array, np.count_nonzero is useful:\n",
        "\n",
        "# how many values less than 6?\n",
        "print(\"1-: \",np.count_nonzero(x<6))\n",
        "\n",
        "# We see that there are eight array entries that are less than 6. Another way to get at this\n",
        "# information is to use np.sum ; in this case, False is interpreted as 0 , and True is inter‐\n",
        "# preted as 1 :\n",
        "\n",
        "print(\"2-: \",np.sum(x<6))\n",
        "\n",
        "print(\"3-: \",np.sum(x!=np.nan))\n",
        "print(\"4-: \",np.count_nonzero(x!=np.nan))"
      ]
    },
    {
      "cell_type": "code",
      "execution_count": null,
      "metadata": {
        "id": "YGKY_0lHzLxX",
        "outputId": "ae5de9a2-c455-4a88-b6bd-e961d03d597c"
      },
      "outputs": [
        {
          "name": "stdout",
          "output_type": "stream",
          "text": [
            "[4 2 2]\n",
            "[2 2 2 2]\n"
          ]
        }
      ],
      "source": [
        "# how many values less than 6 in each row?\n",
        "print(np.sum(x < 6, axis=1))\n",
        "\n",
        "# how many values less than 6 in each column?\n",
        "print(np.sum(x < 6, axis=0))"
      ]
    },
    {
      "cell_type": "code",
      "execution_count": null,
      "metadata": {
        "id": "RfnssdIBzLxX",
        "outputId": "6e6cf976-0626-415f-a713-f69bf59828d6"
      },
      "outputs": [
        {
          "name": "stdout",
          "output_type": "stream",
          "text": [
            "True\n",
            "False\n",
            "True\n",
            "False\n"
          ]
        }
      ],
      "source": [
        "# If we’re interested in quickly checking whether any or all the values are true, we can\n",
        "# use (you guessed it) np.any() or np.all() :\n",
        "\n",
        "# are there any values greater than 8?\n",
        "print(np.any(x>8))\n",
        "\n",
        "# are there any values less than zero?\n",
        "print(np.any(x<0))\n",
        "\n",
        "# are all values less than 10?\n",
        "print(np.all(x<10))\n",
        "\n",
        "# are all values equal to 6?\n",
        "print(np.all(x==6))"
      ]
    },
    {
      "cell_type": "code",
      "execution_count": null,
      "metadata": {
        "id": "bCggLYf0zLxY",
        "outputId": "306494ee-a965-4df5-85d3-ac4aafa7da41"
      },
      "outputs": [
        {
          "name": "stdout",
          "output_type": "stream",
          "text": [
            "[ True False  True]\n",
            "[False False False False]\n"
          ]
        }
      ],
      "source": [
        "# are all values in each row less than 8?\n",
        "print(np.all(x<8, axis=1))\n",
        "\n",
        "# are all values in each column less than 3?\n",
        "print(np.all(x<3, axis=0))"
      ]
    },
    {
      "cell_type": "code",
      "execution_count": null,
      "metadata": {
        "id": "bn2Y2H-RzLxY",
        "outputId": "d6b8130b-60a2-4dda-f843-674188f824a3"
      },
      "outputs": [
        {
          "name": "stdout",
          "output_type": "stream",
          "text": [
            "[[5 0 3 3]\n",
            " [7 9 3 5]\n",
            " [2 4 7 6]]\n",
            "[[False  True  True  True]\n",
            " [False False  True False]\n",
            " [ True  True False False]]\n",
            "[0 3 3 3 2 4]\n"
          ]
        }
      ],
      "source": [
        "print(x)\n",
        "print(x<5)\n",
        "print(x[x<5])"
      ]
    },
    {
      "cell_type": "code",
      "execution_count": null,
      "metadata": {
        "id": "TfI1BfmqzLxY",
        "outputId": "38678513-9599-419a-9ab6-2d8f4413a01e"
      },
      "outputs": [
        {
          "data": {
            "text/plain": [
              "(True, False, True)"
            ]
          },
          "execution_count": 133,
          "metadata": {},
          "output_type": "execute_result"
        }
      ],
      "source": [
        "# In Python, all nonzero integers will evaluate as True .\n",
        "bool(42), bool(0), bool(-1)"
      ]
    },
    {
      "cell_type": "code",
      "execution_count": null,
      "metadata": {
        "id": "xoS35VEKzLxY",
        "outputId": "b8313ed2-bc65-4a9b-b328-e7868d194d53"
      },
      "outputs": [
        {
          "data": {
            "text/plain": [
              "False"
            ]
          },
          "execution_count": 134,
          "metadata": {},
          "output_type": "execute_result"
        }
      ],
      "source": [
        "bool(42 and 0)"
      ]
    },
    {
      "cell_type": "code",
      "execution_count": null,
      "metadata": {
        "id": "LsuVYM2ozLxZ",
        "outputId": "7b526722-22d9-40b2-91ba-115b0c3eeb7e"
      },
      "outputs": [
        {
          "data": {
            "text/plain": [
              "True"
            ]
          },
          "execution_count": 135,
          "metadata": {},
          "output_type": "execute_result"
        }
      ],
      "source": [
        "bool(42 or 0)"
      ]
    },
    {
      "cell_type": "code",
      "execution_count": null,
      "metadata": {
        "id": "d14HvxlZzLxZ",
        "outputId": "ceb10e55-f1fe-43b5-ae63-5961bf02b395"
      },
      "outputs": [
        {
          "data": {
            "text/plain": [
              "array([ True,  True,  True, False,  True,  True])"
            ]
          },
          "execution_count": 136,
          "metadata": {},
          "output_type": "execute_result"
        }
      ],
      "source": [
        "# When you have an array of Boolean values in NumPy, this can be thought of as a\n",
        "# string of bits where 1 = True and 0 = False , and the result of & and | operates in a\n",
        "# similar manner as before:\n",
        "\n",
        "A = np.array([1, 0, 1, 0, 1, 0], dtype=bool)\n",
        "B = np.array([1, 1, 1, 0, 1, 1], dtype=bool)\n",
        "A | B"
      ]
    },
    {
      "cell_type": "code",
      "execution_count": null,
      "metadata": {
        "id": "kT4offLazLxZ",
        "outputId": "6aac33e8-0efc-495a-920d-3f9a26ffeb52"
      },
      "outputs": [
        {
          "data": {
            "text/plain": [
              "array([False, False, False, False, False,  True,  True,  True, False,\n",
              "       False])"
            ]
          },
          "execution_count": 137,
          "metadata": {},
          "output_type": "execute_result"
        }
      ],
      "source": [
        "x = np.arange(10)\n",
        "(x > 4) & (x < 8)"
      ]
    },
    {
      "cell_type": "markdown",
      "metadata": {
        "id": "DG718-njzLxZ"
      },
      "source": [
        "<a id=\"35\"></a> <br>\n",
        "# Fancy Indexing"
      ]
    },
    {
      "cell_type": "markdown",
      "metadata": {
        "id": "G-N4Y3bLzLxa"
      },
      "source": [
        "<a id=\"36\"></a> <br>\n",
        "### Exploring Fancy Indexing"
      ]
    },
    {
      "cell_type": "code",
      "execution_count": null,
      "metadata": {
        "id": "W0nrlyfAzLxa",
        "outputId": "85fd524d-8bb7-4ddc-9cca-ceebe2a1fbd3"
      },
      "outputs": [
        {
          "name": "stdout",
          "output_type": "stream",
          "text": [
            "[51 92 14 71 60 20 82 86 74 74]\n"
          ]
        }
      ],
      "source": [
        "import numpy as np\n",
        "\n",
        "rand = np.random.RandomState(42)\n",
        "x = rand.randint(100, size=10)\n",
        "print(x)"
      ]
    },
    {
      "cell_type": "code",
      "execution_count": null,
      "metadata": {
        "id": "W_i49eSWzLxa",
        "outputId": "282c2d2f-8963-4690-fef3-ce4f19bee76a"
      },
      "outputs": [
        {
          "data": {
            "text/plain": [
              "[71, 86, 14]"
            ]
          },
          "execution_count": 139,
          "metadata": {},
          "output_type": "execute_result"
        }
      ],
      "source": [
        "[x[3],x[7],x[2]]"
      ]
    },
    {
      "cell_type": "code",
      "execution_count": null,
      "metadata": {
        "id": "4XsF9n6hzLxa",
        "outputId": "e1373182-1609-4e51-ff25-2ca2821de00b"
      },
      "outputs": [
        {
          "data": {
            "text/plain": [
              "array([71, 86, 60])"
            ]
          },
          "execution_count": 140,
          "metadata": {},
          "output_type": "execute_result"
        }
      ],
      "source": [
        "ind = [3,7,4]\n",
        "x[ind]"
      ]
    },
    {
      "cell_type": "code",
      "execution_count": null,
      "metadata": {
        "id": "iwRKLpB_zLxb",
        "outputId": "744f58f7-0c78-49e4-cb13-b15bc320858b"
      },
      "outputs": [
        {
          "data": {
            "text/plain": [
              "array([[71, 86],\n",
              "       [60, 20]])"
            ]
          },
          "execution_count": 141,
          "metadata": {},
          "output_type": "execute_result"
        }
      ],
      "source": [
        "ind = np.array([[3, 7],\n",
        "                [4, 5]])\n",
        "x[ind]"
      ]
    },
    {
      "cell_type": "code",
      "execution_count": null,
      "metadata": {
        "id": "qz1OlS2azLxb",
        "outputId": "c7a18057-6e84-46e3-cc02-e8b9db68c448"
      },
      "outputs": [
        {
          "data": {
            "text/plain": [
              "array([[ 0,  1,  2,  3],\n",
              "       [ 4,  5,  6,  7],\n",
              "       [ 8,  9, 10, 11]])"
            ]
          },
          "execution_count": 142,
          "metadata": {},
          "output_type": "execute_result"
        }
      ],
      "source": [
        "X = np.arange(12).reshape((3,4))\n",
        "X"
      ]
    },
    {
      "cell_type": "code",
      "execution_count": null,
      "metadata": {
        "id": "r_utQTstzLxb",
        "outputId": "f8483bde-e166-45d3-fd1a-2d10d529de15"
      },
      "outputs": [
        {
          "data": {
            "text/plain": [
              "array([ 2,  5, 11])"
            ]
          },
          "execution_count": 143,
          "metadata": {},
          "output_type": "execute_result"
        }
      ],
      "source": [
        "row = np.array([0,1,2])\n",
        "col = np.array([2,1,3])\n",
        "X[row,col]"
      ]
    },
    {
      "cell_type": "code",
      "execution_count": null,
      "metadata": {
        "id": "4KMgu1I0zLxc",
        "outputId": "6f408e00-d39d-4b13-c03d-05cdf4c7f70a"
      },
      "outputs": [
        {
          "data": {
            "text/plain": [
              "array([[ 2,  1,  3],\n",
              "       [ 6,  5,  7],\n",
              "       [10,  9, 11]])"
            ]
          },
          "execution_count": 144,
          "metadata": {},
          "output_type": "execute_result"
        }
      ],
      "source": [
        "X[row[:, np.newaxis], col] #row[:, np.newaxis].shape (3,1)"
      ]
    },
    {
      "cell_type": "code",
      "execution_count": null,
      "metadata": {
        "id": "Gi5U5rrJzLxc",
        "outputId": "9dccd86b-5ea9-46c8-9c15-f59881ebe045"
      },
      "outputs": [
        {
          "data": {
            "text/plain": [
              "array([[0, 0, 0],\n",
              "       [2, 1, 3],\n",
              "       [4, 2, 6]])"
            ]
          },
          "execution_count": 145,
          "metadata": {},
          "output_type": "execute_result"
        }
      ],
      "source": [
        "# Here, each row value is matched with each column vector, exactly as we saw in broad‐\n",
        "# casting of arithmetic operations. For example:\n",
        "\n",
        "row[:, np.newaxis] * col"
      ]
    },
    {
      "cell_type": "markdown",
      "metadata": {
        "id": "Seyz0F66zLxd"
      },
      "source": [
        "<a id=\"37\"></a> <br>\n",
        "### Combined Indexing"
      ]
    },
    {
      "cell_type": "code",
      "execution_count": null,
      "metadata": {
        "id": "tsuHydiGzLxd",
        "outputId": "83c4db5b-ea1b-4d3b-ebec-62de0566efa2"
      },
      "outputs": [
        {
          "name": "stdout",
          "output_type": "stream",
          "text": [
            "[[ 0  1  2  3]\n",
            " [ 4  5  6  7]\n",
            " [ 8  9 10 11]]\n"
          ]
        }
      ],
      "source": [
        "print(X)"
      ]
    },
    {
      "cell_type": "code",
      "execution_count": null,
      "metadata": {
        "id": "VL3BeQjYzLxd",
        "outputId": "3ec6e88b-a22a-4664-e798-d9cfacec880c"
      },
      "outputs": [
        {
          "data": {
            "text/plain": [
              "array([10,  8,  9])"
            ]
          },
          "execution_count": 147,
          "metadata": {},
          "output_type": "execute_result"
        }
      ],
      "source": [
        "X[2,[2,0,1]]"
      ]
    },
    {
      "cell_type": "code",
      "execution_count": null,
      "metadata": {
        "id": "ijYy1kMvzLxe",
        "outputId": "1ca7b4be-fead-45c7-f215-c2e9456aa86f"
      },
      "outputs": [
        {
          "data": {
            "text/plain": [
              "array([[ 6,  4,  5],\n",
              "       [10,  8,  9]])"
            ]
          },
          "execution_count": 148,
          "metadata": {},
          "output_type": "execute_result"
        }
      ],
      "source": [
        "X[1:, [2, 0, 1]]"
      ]
    },
    {
      "cell_type": "code",
      "execution_count": null,
      "metadata": {
        "id": "0KDHY13MzLxe",
        "outputId": "6f500156-62db-4e14-c887-1d8e9b6e8df0"
      },
      "outputs": [
        {
          "data": {
            "text/plain": [
              "array([[ 0,  2],\n",
              "       [ 4,  6],\n",
              "       [ 8, 10]])"
            ]
          },
          "execution_count": 149,
          "metadata": {},
          "output_type": "execute_result"
        }
      ],
      "source": [
        "mask = np.array([1, 0, 1, 0], dtype=bool)\n",
        "X[row[:, np.newaxis], mask]  # mask 0 and 2 indixes are true!"
      ]
    },
    {
      "cell_type": "markdown",
      "metadata": {
        "id": "KtvSM4WyzLxe"
      },
      "source": [
        "<a id=\"38\"></a> <br>\n",
        "### Modifying Values with Fancy Indexing"
      ]
    },
    {
      "cell_type": "code",
      "execution_count": null,
      "metadata": {
        "id": "BONkvaywzLxf",
        "outputId": "48c86667-82e9-47d0-a80a-bdfed383e4f7"
      },
      "outputs": [
        {
          "name": "stdout",
          "output_type": "stream",
          "text": [
            "[ 0 99 99  3 99  5  6  7 99  9]\n"
          ]
        }
      ],
      "source": [
        "x = np.arange(10)\n",
        "i = np.array([2,1,8,4])\n",
        "x[i] = 99\n",
        "print(x)"
      ]
    },
    {
      "cell_type": "code",
      "execution_count": null,
      "metadata": {
        "id": "t0kSEuvOzLxf",
        "outputId": "20f51667-eb2e-45ca-cf1c-6eaa83c1a0fa"
      },
      "outputs": [
        {
          "name": "stdout",
          "output_type": "stream",
          "text": [
            "[ 0 89 89  3 89  5  6  7 89  9]\n"
          ]
        }
      ],
      "source": [
        "x[i] -= 10\n",
        "print(x)"
      ]
    },
    {
      "cell_type": "code",
      "execution_count": null,
      "metadata": {
        "id": "IyxKk_uXzLxg",
        "outputId": "bd97fac2-0058-4980-abf8-a583014222d5"
      },
      "outputs": [
        {
          "name": "stdout",
          "output_type": "stream",
          "text": [
            "[4. 0. 6. 0. 0. 0. 0. 0. 0. 0.]\n"
          ]
        }
      ],
      "source": [
        "x = np.zeros(10)\n",
        "x[[0, 2]] = [4, 6]\n",
        "print(x)"
      ]
    },
    {
      "cell_type": "code",
      "execution_count": null,
      "metadata": {
        "id": "D6ZxbZ_BzLxg",
        "outputId": "da8b8796-6fcb-4a07-df14-13119ed9878e"
      },
      "outputs": [
        {
          "name": "stdout",
          "output_type": "stream",
          "text": [
            "[6. 0. 0. 0. 0. 0. 0. 0. 0. 0.]\n"
          ]
        }
      ],
      "source": [
        "x = np.zeros(10)\n",
        "x[[0, 0]] = [4, 6]\n",
        "print(x)\n",
        "\n",
        "# Where did the 4 go? The result of this operation is to first assign x[0] = 4 , followed\n",
        "# by x[0] = 6 . The result, of course, is that x[0] contains the value 6."
      ]
    },
    {
      "cell_type": "code",
      "execution_count": null,
      "metadata": {
        "id": "8_dSqfV5zLxg",
        "outputId": "e706b378-43aa-444e-a592-fc0d3f27a43b"
      },
      "outputs": [
        {
          "data": {
            "text/plain": [
              "array([6., 0., 1., 1., 1., 0., 0., 0., 0., 0.])"
            ]
          },
          "execution_count": 154,
          "metadata": {},
          "output_type": "execute_result"
        }
      ],
      "source": [
        "i = [2, 3, 3, 4, 4, 4]\n",
        "x[i] += 1\n",
        "x"
      ]
    },
    {
      "cell_type": "code",
      "execution_count": null,
      "metadata": {
        "id": "PIzjOVUMzLxh",
        "outputId": "6ce674c1-afaf-4f29-e91d-6964b7efed0c"
      },
      "outputs": [
        {
          "name": "stdout",
          "output_type": "stream",
          "text": [
            "[0. 0. 1. 2. 3. 0. 0. 0. 0. 0.]\n"
          ]
        }
      ],
      "source": [
        "x = np.zeros(10)\n",
        "np.add.at(x, i, 1)\n",
        "print(x)"
      ]
    },
    {
      "cell_type": "markdown",
      "metadata": {
        "id": "kumnN_ctzLxh"
      },
      "source": [
        "<a id=\"39\"></a> <br>\n",
        "# Sorting Arrays"
      ]
    },
    {
      "cell_type": "markdown",
      "metadata": {
        "id": "t0HNpRMVzLxh"
      },
      "source": [
        "<a id=\"40\"></a> <br>\n",
        "### Fast Sorting in NumPy: np.sort and np.argsort"
      ]
    },
    {
      "cell_type": "code",
      "execution_count": null,
      "metadata": {
        "id": "qm4qBbGVzLxi",
        "outputId": "4aeb71bd-480a-4f3d-8e62-e431ef3e3d6b"
      },
      "outputs": [
        {
          "data": {
            "text/plain": [
              "array([1, 2, 3, 4, 5])"
            ]
          },
          "execution_count": 156,
          "metadata": {},
          "output_type": "execute_result"
        }
      ],
      "source": [
        "x = np.array([2,1,4,3,5])\n",
        "np.sort(x)"
      ]
    },
    {
      "cell_type": "code",
      "execution_count": null,
      "metadata": {
        "id": "TvqTHP1ZzLxi",
        "outputId": "5da5dc52-60f6-4021-b2cf-0edbb58e83df"
      },
      "outputs": [
        {
          "name": "stdout",
          "output_type": "stream",
          "text": [
            "[1 2 3 4 5]\n"
          ]
        }
      ],
      "source": [
        "x.sort()\n",
        "print(x)"
      ]
    },
    {
      "cell_type": "code",
      "execution_count": null,
      "metadata": {
        "id": "F5wIrCXUzLxi",
        "outputId": "d6783d3e-927c-41ac-8790-6ca604af85dc"
      },
      "outputs": [
        {
          "name": "stdout",
          "output_type": "stream",
          "text": [
            "[1 0 3 2 4]\n"
          ]
        },
        {
          "data": {
            "text/plain": [
              "array([1, 2, 3, 4, 5])"
            ]
          },
          "execution_count": 158,
          "metadata": {},
          "output_type": "execute_result"
        }
      ],
      "source": [
        "#return indices\n",
        "x = np.array([2,1,4,3,5])\n",
        "i = np.argsort(x)\n",
        "print(i)\n",
        "\n",
        "x[i]"
      ]
    },
    {
      "cell_type": "markdown",
      "metadata": {
        "id": "PggV8s03zLxj"
      },
      "source": [
        "<a id=\"41\"></a> <br>\n",
        "### Sorting along rows or columns"
      ]
    },
    {
      "cell_type": "code",
      "execution_count": null,
      "metadata": {
        "id": "Hh6Q7AE5zLxj",
        "outputId": "e9877a47-1ab2-482c-d4cc-c353c6034cd1"
      },
      "outputs": [
        {
          "name": "stdout",
          "output_type": "stream",
          "text": [
            "[[6 3 7 4 6 9]\n",
            " [2 6 7 4 3 7]\n",
            " [7 2 5 4 1 7]\n",
            " [5 1 4 0 9 5]]\n"
          ]
        }
      ],
      "source": [
        "# A useful feature of NumPy’s sorting algorithms is the ability to sort along specific\n",
        "# rows or columns of a multidimensional array using the axis argument. For example:\n",
        "\n",
        "rand = np.random.RandomState(42)\n",
        "X = rand.randint(0,10,(4,6))\n",
        "print(X)"
      ]
    },
    {
      "cell_type": "code",
      "execution_count": null,
      "metadata": {
        "id": "lBubk_TPzLxj",
        "outputId": "4336c1ff-224c-45b0-c09e-5942e385b85b"
      },
      "outputs": [
        {
          "data": {
            "text/plain": [
              "array([[2, 1, 4, 0, 1, 5],\n",
              "       [5, 2, 5, 4, 3, 7],\n",
              "       [6, 3, 7, 4, 6, 7],\n",
              "       [7, 6, 7, 4, 9, 9]])"
            ]
          },
          "execution_count": 160,
          "metadata": {},
          "output_type": "execute_result"
        }
      ],
      "source": [
        "# sort each column of X\n",
        "\n",
        "np.sort(X, axis=0)"
      ]
    },
    {
      "cell_type": "code",
      "execution_count": null,
      "metadata": {
        "id": "eYenenBkzLxk",
        "outputId": "78d641e0-a1c8-47b7-c991-1d0b5e4d266a"
      },
      "outputs": [
        {
          "data": {
            "text/plain": [
              "array([[3, 4, 6, 6, 7, 9],\n",
              "       [2, 3, 4, 6, 7, 7],\n",
              "       [1, 2, 4, 5, 7, 7],\n",
              "       [0, 1, 4, 5, 5, 9]])"
            ]
          },
          "execution_count": 161,
          "metadata": {},
          "output_type": "execute_result"
        }
      ],
      "source": [
        "# sort each row of X\n",
        "\n",
        "np.sort(X, axis=1)"
      ]
    },
    {
      "cell_type": "markdown",
      "metadata": {
        "id": "2z4B-pugzLxk"
      },
      "source": [
        "<a id=\"42\"></a> <br>\n",
        "### Partial Sorts: Partitioning"
      ]
    },
    {
      "cell_type": "code",
      "execution_count": null,
      "metadata": {
        "id": "Q4xRSWBkzLxk",
        "outputId": "4a719e91-1ca9-4e17-adf4-0d8950eca312"
      },
      "outputs": [
        {
          "data": {
            "text/plain": [
              "array([2, 3, 1, 4, 6, 5, 7])"
            ]
          },
          "execution_count": 162,
          "metadata": {},
          "output_type": "execute_result"
        }
      ],
      "source": [
        "# Note that the first three values in the resulting array are the three smallest in the\n",
        "# array, and the remaining array positions contain the remaining values. Within the\n",
        "# two partitions, the elements have arbitrary order.\n",
        "\n",
        "x = np.array([7, 2, 1, 3, 6, 5, 4])\n",
        "np.partition(x, 3)"
      ]
    },
    {
      "cell_type": "code",
      "execution_count": null,
      "metadata": {
        "id": "1P8Mw4-tzLxk",
        "outputId": "4d9151bc-2042-4ac3-a348-37b800b0112a"
      },
      "outputs": [
        {
          "data": {
            "text/plain": [
              "array([[3, 4, 6, 7, 6, 9],\n",
              "       [2, 3, 4, 7, 6, 7],\n",
              "       [1, 2, 4, 5, 7, 7],\n",
              "       [0, 1, 4, 5, 9, 5]])"
            ]
          },
          "execution_count": 163,
          "metadata": {},
          "output_type": "execute_result"
        }
      ],
      "source": [
        "# The result is an array where the first two slots in each row contain the smallest values\n",
        "# from that row, with the remaining values filling the remaining slots.\n",
        "\n",
        "np.partition(X, 2, axis=1)"
      ]
    },
    {
      "cell_type": "code",
      "execution_count": null,
      "metadata": {
        "id": "k1B7eFSAzLxl",
        "outputId": "017a1154-d023-4f4b-a842-67635aae0434"
      },
      "outputs": [
        {
          "data": {
            "text/plain": [
              "array([[2, 1, 4, 0, 1, 5],\n",
              "       [5, 2, 5, 4, 3, 7],\n",
              "       [6, 3, 7, 4, 6, 7],\n",
              "       [7, 6, 7, 4, 9, 9]])"
            ]
          },
          "execution_count": 164,
          "metadata": {},
          "output_type": "execute_result"
        }
      ],
      "source": [
        "np.partition(X, 2, axis=0)"
      ]
    },
    {
      "cell_type": "code",
      "execution_count": null,
      "metadata": {
        "id": "af6uNxWdzLxl",
        "outputId": "f15f9642-3803-4753-b228-31ffe3c5101b"
      },
      "outputs": [
        {
          "data": {
            "text/plain": [
              "array([[1, 3, 0, 2, 4, 5],\n",
              "       [0, 4, 3, 2, 1, 5],\n",
              "       [4, 1, 3, 2, 0, 5],\n",
              "       [3, 1, 2, 0, 4, 5]])"
            ]
          },
          "execution_count": 165,
          "metadata": {},
          "output_type": "execute_result"
        }
      ],
      "source": [
        "np.argpartition(X, 2, axis=1)"
      ]
    },
    {
      "cell_type": "code",
      "execution_count": null,
      "metadata": {
        "id": "0hi8Y7f1zLxl",
        "outputId": "ad0e2706-58fb-45b1-bf6b-3a0ebb80da71"
      },
      "outputs": [
        {
          "data": {
            "text/plain": [
              "array([[1, 3, 3, 3, 2, 3],\n",
              "       [3, 2, 2, 1, 1, 1],\n",
              "       [0, 0, 1, 2, 0, 2],\n",
              "       [2, 1, 0, 0, 3, 0]])"
            ]
          },
          "execution_count": 166,
          "metadata": {},
          "output_type": "execute_result"
        }
      ],
      "source": [
        "np.argpartition(X, 2, axis=0)"
      ]
    },
    {
      "cell_type": "markdown",
      "metadata": {
        "id": "qDQUetMYzLxl"
      },
      "source": [
        "# This kernel will be updated regularly."
      ]
    },
    {
      "cell_type": "markdown",
      "metadata": {
        "id": "RTUHoe6jzLxm"
      },
      "source": [
        "<a id=\"42\"></a>\n",
        "# Conclusion\n",
        "* **If you like it, please upvote   :)**\n",
        "* **If you have any question, I will be appreciate to hear it   :)**"
      ]
    }
  ],
  "metadata": {
    "colab": {
      "include_colab_link": true,
      "name": "numpy-tutorial.ipynb",
      "provenance": []
    },
    "kernelspec": {
      "display_name": "Python 3",
      "language": "python",
      "name": "python3"
    },
    "language_info": {
      "codemirror_mode": {
        "name": "ipython",
        "version": 3
      },
      "file_extension": ".py",
      "mimetype": "text/x-python",
      "name": "python",
      "nbconvert_exporter": "python",
      "pygments_lexer": "ipython3",
      "version": "3.6.6"
    }
  },
  "nbformat": 4,
  "nbformat_minor": 0
}
